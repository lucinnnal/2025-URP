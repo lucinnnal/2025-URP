{
  "nbformat": 4,
  "nbformat_minor": 0,
  "metadata": {
    "colab": {
      "provenance": []
    },
    "kernelspec": {
      "name": "python3",
      "display_name": "Python 3"
    },
    "language_info": {
      "name": "python"
    }
  },
  "cells": [
    {
      "cell_type": "code",
      "execution_count": 2,
      "metadata": {
        "colab": {
          "base_uri": "https://localhost:8080/"
        },
        "id": "NDko2bM8D4ai",
        "outputId": "f3390509-84ed-4585-de5f-b108a8731928"
      },
      "outputs": [
        {
          "output_type": "stream",
          "name": "stdout",
          "text": [
            "Mounted at /content/drive\n"
          ]
        }
      ],
      "source": [
        "from google.colab import drive\n",
        "drive.mount('/content/drive')"
      ]
    },
    {
      "cell_type": "code",
      "source": [
        "# Openpose model download\n",
        "!git clone https://github.com/CMU-Perceptual-Computing-Lab/openpose.git /content/drive/MyDrive/openpose\n",
        "%cd /content/drive/MyDrive/openpose\n",
        "%cd /content/drive/MyDrive/openpose\n",
        "!bash /content/drive/MyDrive/openpose/models/getModels.sh"
      ],
      "metadata": {
        "colab": {
          "base_uri": "https://localhost:8080/"
        },
        "id": "S4vejcgdgiGa",
        "outputId": "2db13725-aa9c-4e5b-c1e9-4130dc62065c"
      },
      "execution_count": 3,
      "outputs": [
        {
          "output_type": "stream",
          "name": "stdout",
          "text": [
            "fatal: destination path '/content/drive/MyDrive/openpose' already exists and is not an empty directory.\n"
          ]
        }
      ]
    },
    {
      "cell_type": "code",
      "source": [
        "import cv2\n",
        "import numpy as np\n",
        "import os\n",
        "import csv\n",
        "from tqdm import tqdm\n",
        "\n",
        "# OpenPose 모델 파일 경로\n",
        "protoFile_COCO = \"/content/drive/MyDrive/openpose/models/pose/coco/pose_deploy_linevec.prototxt\"\n",
        "weightsFile_COCO = \"/content/drive/MyDrive/openpose/pose/coco/pose_iter_440000.caffemodel\"\n",
        "\n",
        "# 상반신 키포인트 정의\n",
        "BODY_PARTS_UPPER = {\n",
        "    0: \"Nose\", 1: \"Neck\",\n",
        "    2: \"RShoulder\", 3: \"RElbow\", 4: \"RWrist\",\n",
        "    5: \"LShoulder\", 6: \"LElbow\", 7: \"LWrist\",\n",
        "    8: \"RHip\", 11: \"LHip\",\n",
        "    14: \"REye\", 15: \"LEye\", 16: \"REar\", 17: \"LEar\"\n",
        "}\n",
        "\n",
        "POSE_PAIRS_UPPER = [\n",
        "    [0, 1], [0, 14], [0, 15],\n",
        "    [1, 2], [1, 5],\n",
        "    [2, 3], [3, 4],\n",
        "    [5, 6], [6, 7],\n",
        "    [14, 16], [15, 17],\n",
        "    [2, 8], [5, 11]\n",
        "]\n",
        "\n",
        "# 네트워크 로드\n",
        "net_openpose = cv2.dnn.readNetFromCaffe(protoFile_COCO, weightsFile_COCO)\n",
        "net_openpose.setPreferableBackend(cv2.dnn.DNN_BACKEND_OPENCV)\n",
        "net_openpose.setPreferableTarget(cv2.dnn.DNN_TARGET_CPU)\n",
        "\n",
        "# 경로 설정\n",
        "video_dir = \"/content/drive/MyDrive/good_clips\"\n",
        "output_dir = \"/content/drive/MyDrive/good_clip\"\n",
        "os.makedirs(output_dir, exist_ok=True)\n",
        "\n",
        "# 최종 CSV 저장 경로\n",
        "combined_csv_path = os.path.join(output_dir, \"all_videos_keypoints.csv\")\n",
        "\n",
        "# 키포인트 추출 함수\n",
        "def output_keypoints(frame, threshold=0.1):\n",
        "    global points\n",
        "\n",
        "    image_height, image_width = 368, 368\n",
        "    input_blob = cv2.dnn.blobFromImage(frame, 1.0 / 255, (image_width, image_height), (0, 0, 0), swapRB=False, crop=False)\n",
        "\n",
        "    net_openpose.setInput(input_blob)\n",
        "    out = net_openpose.forward()\n",
        "\n",
        "    frame_height, frame_width = frame.shape[:2]\n",
        "    out_height, out_width = out.shape[2], out.shape[3]\n",
        "\n",
        "    points = []\n",
        "    for i in BODY_PARTS_UPPER.keys():\n",
        "        prob_map = out[0, i, :, :]\n",
        "        _, prob, _, point = cv2.minMaxLoc(prob_map)\n",
        "\n",
        "        x = int((frame_width * point[0]) / out_width)\n",
        "        y = int((frame_height * point[1]) / out_height)\n",
        "\n",
        "        if prob > threshold:\n",
        "            points.append((x, y))\n",
        "        else:\n",
        "            points.append(None)\n",
        "\n",
        "# 키포인트 연결선 그리기 함수 (이미지 저장용)\n",
        "def output_keypoints_with_lines(frame):\n",
        "    for pair in POSE_PAIRS_UPPER:\n",
        "        part_a, part_b = pair\n",
        "        if part_a >= len(points) or part_b >= len(points):\n",
        "            continue\n",
        "        if points[part_a] is None or points[part_b] is None:\n",
        "            continue\n",
        "        cv2.line(frame, points[part_a], points[part_b], (0, 255, 0), 2)\n",
        "    # 점도 같이 찍어줌\n",
        "    for i, point in enumerate(points):\n",
        "        if point is not None:\n",
        "            cv2.circle(frame, point, 5, (0, 255, 255), -1)\n",
        "            cv2.putText(frame, BODY_PARTS_UPPER.get(i, str(i)), (point[0] + 5, point[1] - 5),\n",
        "                        cv2.FONT_HERSHEY_SIMPLEX, 0.5, (0, 0, 255), 1)\n",
        "\n",
        "# CSV 초기화\n",
        "with open(combined_csv_path, mode='w', newline='') as csv_file:\n",
        "    csv_writer = csv.writer(csv_file)\n",
        "\n",
        "    # 헤더 구성\n",
        "    header = ['filename', 'frame']\n",
        "    for part in BODY_PARTS_UPPER.values():\n",
        "        header.extend([f'{part}_x', f'{part}_y'])\n",
        "    csv_writer.writerow(header)\n",
        "\n",
        "    # 폴더 내 모든 영상 순회\n",
        "    for video_file in os.listdir(video_dir):\n",
        "        if not video_file.endswith(('.mp4', '.avi', '.mov')):\n",
        "            continue\n",
        "\n",
        "        video_path = os.path.join(video_dir, video_file)\n",
        "        capture = cv2.VideoCapture(video_path)\n",
        "\n",
        "        fps_video = int(capture.get(cv2.CAP_PROP_FPS))\n",
        "        total_frame = int(capture.get(cv2.CAP_PROP_FRAME_COUNT))\n",
        "\n",
        "        # 1초에 1프레임씩 처리\n",
        "        fps_target = 1\n",
        "        frame_interval = fps_video // fps_target\n",
        "\n",
        "        # 영상별 저장 폴더 생성 (이미지 저장용)\n",
        "        video_output_dir = os.path.join(output_dir, video_file.split('.')[0])\n",
        "        os.makedirs(video_output_dir, exist_ok=True)\n",
        "\n",
        "        print(f\"▶ Processing {video_file}...\")\n",
        "\n",
        "        for now_frame in tqdm(range(0, total_frame, frame_interval), desc=f\"{video_file} 진행중\"):\n",
        "            capture.set(cv2.CAP_PROP_POS_FRAMES, now_frame)\n",
        "            ret, frame = capture.read()\n",
        "\n",
        "            if not ret:\n",
        "                print(f\"{video_file} 프레임 {now_frame} 읽기 실패. 넘어감.\")\n",
        "                break\n",
        "\n",
        "            frame_openpose = frame.copy()\n",
        "\n",
        "            output_keypoints(frame_openpose, threshold=0.1)\n",
        "            output_keypoints_with_lines(frame_openpose)\n",
        "\n",
        "            # 키포인트 좌표 CSV에 저장\n",
        "            row = [video_file, now_frame]\n",
        "            for point in points:\n",
        "                if point is None:\n",
        "                    row.extend([None, None])\n",
        "                else:\n",
        "                    row.extend([point[0], point[1]])\n",
        "            csv_writer.writerow(row)\n",
        "\n",
        "            # 프레임별 이미지 저장\n",
        "            frame_img_path = os.path.join(video_output_dir, f\"{now_frame:04d}.jpg\")\n",
        "            cv2.imwrite(frame_img_path, frame_openpose)\n",
        "\n",
        "        capture.release()\n",
        "\n",
        "print(f\"✅ 모든 작업 완료! CSV 저장: {combined_csv_path}\")\n"
      ],
      "metadata": {
        "colab": {
          "base_uri": "https://localhost:8080/"
        },
        "id": "bGJldDFgjpes",
        "outputId": "ae380f1e-60cd-4ce9-a46d-7b577e4d3e7e"
      },
      "execution_count": null,
      "outputs": [
        {
          "output_type": "stream",
          "name": "stdout",
          "text": [
            "▶ Processing A6Dkt7zyImk_043.mp4...\n"
          ]
        },
        {
          "output_type": "stream",
          "name": "stderr",
          "text": [
            "A6Dkt7zyImk_043.mp4 진행중: 100%|██████████| 4/4 [00:26<00:00,  6.71s/it]\n"
          ]
        },
        {
          "output_type": "stream",
          "name": "stdout",
          "text": [
            "▶ Processing 3UqkgRGPqsk_068.mp4...\n"
          ]
        },
        {
          "output_type": "stream",
          "name": "stderr",
          "text": [
            "3UqkgRGPqsk_068.mp4 진행중: 100%|██████████| 5/5 [00:37<00:00,  7.45s/it]\n"
          ]
        },
        {
          "output_type": "stream",
          "name": "stdout",
          "text": [
            "▶ Processing 3E7hkPZ-HTk_084.mp4...\n"
          ]
        },
        {
          "output_type": "stream",
          "name": "stderr",
          "text": [
            "3E7hkPZ-HTk_084.mp4 진행중: 100%|██████████| 7/7 [00:45<00:00,  6.50s/it]\n"
          ]
        },
        {
          "output_type": "stream",
          "name": "stdout",
          "text": [
            "▶ Processing 3E7hkPZ-HTk_088.mp4...\n"
          ]
        },
        {
          "output_type": "stream",
          "name": "stderr",
          "text": [
            "3E7hkPZ-HTk_088.mp4 진행중: 100%|██████████| 5/5 [00:33<00:00,  6.63s/it]\n"
          ]
        },
        {
          "output_type": "stream",
          "name": "stdout",
          "text": [
            "▶ Processing 3UqkgRGPqsk_049.mp4...\n"
          ]
        },
        {
          "output_type": "stream",
          "name": "stderr",
          "text": [
            "3UqkgRGPqsk_049.mp4 진행중: 100%|██████████| 4/4 [00:30<00:00,  7.72s/it]\n"
          ]
        },
        {
          "output_type": "stream",
          "name": "stdout",
          "text": [
            "▶ Processing -moW9jvvMr4_087.mp4...\n"
          ]
        },
        {
          "output_type": "stream",
          "name": "stderr",
          "text": [
            "-moW9jvvMr4_087.mp4 진행중:   0%|          | 0/5 [00:00<?, ?it/s]"
          ]
        },
        {
          "output_type": "stream",
          "name": "stdout",
          "text": [
            "-moW9jvvMr4_087.mp4 프레임 0 읽기 실패. 넘어감.\n"
          ]
        },
        {
          "output_type": "stream",
          "name": "stderr",
          "text": [
            "\n"
          ]
        },
        {
          "output_type": "stream",
          "name": "stdout",
          "text": [
            "▶ Processing 3UqkgRGPqsk_081.mp4...\n"
          ]
        },
        {
          "output_type": "stream",
          "name": "stderr",
          "text": [
            "3UqkgRGPqsk_081.mp4 진행중: 100%|██████████| 7/7 [00:44<00:00,  6.30s/it]\n"
          ]
        },
        {
          "output_type": "stream",
          "name": "stdout",
          "text": [
            "▶ Processing 3UqkgRGPqsk_045.mp4...\n"
          ]
        },
        {
          "output_type": "stream",
          "name": "stderr",
          "text": [
            "3UqkgRGPqsk_045.mp4 진행중: 100%|██████████| 4/4 [00:24<00:00,  6.25s/it]\n"
          ]
        },
        {
          "output_type": "stream",
          "name": "stdout",
          "text": [
            "▶ Processing -moW9jvvMr4_071.mp4...\n"
          ]
        },
        {
          "output_type": "stream",
          "name": "stderr",
          "text": [
            "-moW9jvvMr4_071.mp4 진행중:   0%|          | 0/7 [00:00<?, ?it/s]\n"
          ]
        },
        {
          "output_type": "stream",
          "name": "stdout",
          "text": [
            "-moW9jvvMr4_071.mp4 프레임 0 읽기 실패. 넘어감.\n",
            "▶ Processing -moW9jvvMr4_065.mp4...\n"
          ]
        },
        {
          "output_type": "stream",
          "name": "stderr",
          "text": [
            "-moW9jvvMr4_065.mp4 진행중:   0%|          | 0/5 [00:00<?, ?it/s]"
          ]
        },
        {
          "output_type": "stream",
          "name": "stdout",
          "text": [
            "-moW9jvvMr4_065.mp4 프레임 0 읽기 실패. 넘어감.\n"
          ]
        },
        {
          "output_type": "stream",
          "name": "stderr",
          "text": [
            "\n"
          ]
        },
        {
          "output_type": "stream",
          "name": "stdout",
          "text": [
            "▶ Processing 3E7hkPZ-HTk_104.mp4...\n"
          ]
        },
        {
          "output_type": "stream",
          "name": "stderr",
          "text": [
            "3E7hkPZ-HTk_104.mp4 진행중: 100%|██████████| 7/7 [00:42<00:00,  6.07s/it]\n"
          ]
        },
        {
          "output_type": "stream",
          "name": "stdout",
          "text": [
            "▶ Processing 3UqkgRGPqsk_175.mp4...\n"
          ]
        },
        {
          "output_type": "stream",
          "name": "stderr",
          "text": [
            "3UqkgRGPqsk_175.mp4 진행중: 100%|██████████| 4/4 [00:24<00:00,  6.01s/it]\n"
          ]
        },
        {
          "output_type": "stream",
          "name": "stdout",
          "text": [
            "▶ Processing Czg_9C7gw0o_175.mp4...\n"
          ]
        },
        {
          "output_type": "stream",
          "name": "stderr",
          "text": [
            "Czg_9C7gw0o_175.mp4 진행중: 100%|██████████| 7/7 [00:40<00:00,  5.74s/it]\n"
          ]
        },
        {
          "output_type": "stream",
          "name": "stdout",
          "text": [
            "▶ Processing Y45aAZ5-aBw_012.mp4...\n"
          ]
        },
        {
          "output_type": "stream",
          "name": "stderr",
          "text": [
            "Y45aAZ5-aBw_012.mp4 진행중: 100%|██████████| 6/6 [00:32<00:00,  5.47s/it]\n"
          ]
        },
        {
          "output_type": "stream",
          "name": "stdout",
          "text": [
            "▶ Processing Czg_9C7gw0o_032.mp4...\n"
          ]
        },
        {
          "output_type": "stream",
          "name": "stderr",
          "text": [
            "Czg_9C7gw0o_032.mp4 진행중: 100%|██████████| 1/1 [00:05<00:00,  5.30s/it]\n"
          ]
        },
        {
          "output_type": "stream",
          "name": "stdout",
          "text": [
            "▶ Processing A6Dkt7zyImk_127.mp4...\n"
          ]
        },
        {
          "output_type": "stream",
          "name": "stderr",
          "text": [
            "A6Dkt7zyImk_127.mp4 진행중: 100%|██████████| 6/6 [00:35<00:00,  5.86s/it]\n"
          ]
        },
        {
          "output_type": "stream",
          "name": "stdout",
          "text": [
            "▶ Processing 3E7hkPZ-HTk_076.mp4...\n"
          ]
        },
        {
          "output_type": "stream",
          "name": "stderr",
          "text": [
            "3E7hkPZ-HTk_076.mp4 진행중: 100%|██████████| 5/5 [00:28<00:00,  5.77s/it]\n"
          ]
        },
        {
          "output_type": "stream",
          "name": "stdout",
          "text": [
            "▶ Processing 3E7hkPZ-HTk_132.mp4...\n"
          ]
        },
        {
          "output_type": "stream",
          "name": "stderr",
          "text": [
            "3E7hkPZ-HTk_132.mp4 진행중: 100%|██████████| 4/4 [00:22<00:00,  5.74s/it]\n"
          ]
        },
        {
          "output_type": "stream",
          "name": "stdout",
          "text": [
            "▶ Processing Czg_9C7gw0o_149.mp4...\n"
          ]
        },
        {
          "output_type": "stream",
          "name": "stderr",
          "text": [
            "Czg_9C7gw0o_149.mp4 진행중: 100%|██████████| 8/8 [00:44<00:00,  5.58s/it]\n"
          ]
        },
        {
          "output_type": "stream",
          "name": "stdout",
          "text": [
            "▶ Processing 3UqkgRGPqsk_170.mp4...\n"
          ]
        },
        {
          "output_type": "stream",
          "name": "stderr",
          "text": [
            "3UqkgRGPqsk_170.mp4 진행중: 100%|██████████| 4/4 [00:24<00:00,  6.20s/it]\n"
          ]
        },
        {
          "output_type": "stream",
          "name": "stdout",
          "text": [
            "▶ Processing Czg_9C7gw0o_104.mp4...\n"
          ]
        },
        {
          "output_type": "stream",
          "name": "stderr",
          "text": [
            "Czg_9C7gw0o_104.mp4 진행중: 100%|██████████| 9/9 [00:52<00:00,  5.86s/it]\n"
          ]
        },
        {
          "output_type": "stream",
          "name": "stdout",
          "text": [
            "▶ Processing -moW9jvvMr4_106.mp4...\n"
          ]
        },
        {
          "output_type": "stream",
          "name": "stderr",
          "text": [
            "-moW9jvvMr4_106.mp4 진행중:   0%|          | 0/6 [00:00<?, ?it/s]"
          ]
        },
        {
          "output_type": "stream",
          "name": "stdout",
          "text": [
            "-moW9jvvMr4_106.mp4 프레임 0 읽기 실패. 넘어감.\n"
          ]
        },
        {
          "output_type": "stream",
          "name": "stderr",
          "text": [
            "\n"
          ]
        },
        {
          "output_type": "stream",
          "name": "stdout",
          "text": [
            "▶ Processing 3UqkgRGPqsk_048.mp4...\n"
          ]
        },
        {
          "output_type": "stream",
          "name": "stderr",
          "text": [
            "3UqkgRGPqsk_048.mp4 진행중: 100%|██████████| 8/8 [00:47<00:00,  5.96s/it]\n"
          ]
        },
        {
          "output_type": "stream",
          "name": "stdout",
          "text": [
            "▶ Processing 3E7hkPZ-HTk_064.mp4...\n"
          ]
        },
        {
          "output_type": "stream",
          "name": "stderr",
          "text": [
            "3E7hkPZ-HTk_064.mp4 진행중: 100%|██████████| 8/8 [00:43<00:00,  5.45s/it]\n"
          ]
        },
        {
          "output_type": "stream",
          "name": "stdout",
          "text": [
            "▶ Processing 3UqkgRGPqsk_054.mp4...\n"
          ]
        },
        {
          "output_type": "stream",
          "name": "stderr",
          "text": [
            "3UqkgRGPqsk_054.mp4 진행중: 100%|██████████| 6/6 [00:37<00:00,  6.28s/it]\n"
          ]
        },
        {
          "output_type": "stream",
          "name": "stdout",
          "text": [
            "▶ Processing -moW9jvvMr4_076.mp4...\n"
          ]
        },
        {
          "output_type": "stream",
          "name": "stderr",
          "text": [
            "-moW9jvvMr4_076.mp4 진행중:   0%|          | 0/5 [00:00<?, ?it/s]\n"
          ]
        },
        {
          "output_type": "stream",
          "name": "stdout",
          "text": [
            "-moW9jvvMr4_076.mp4 프레임 0 읽기 실패. 넘어감.\n",
            "▶ Processing 3E7hkPZ-HTk_021.mp4...\n"
          ]
        },
        {
          "output_type": "stream",
          "name": "stderr",
          "text": [
            "3E7hkPZ-HTk_021.mp4 진행중: 100%|██████████| 4/4 [00:26<00:00,  6.52s/it]\n"
          ]
        },
        {
          "output_type": "stream",
          "name": "stdout",
          "text": [
            "▶ Processing KM4Xe6Dlp0Y_018.mp4...\n"
          ]
        },
        {
          "output_type": "stream",
          "name": "stderr",
          "text": [
            "KM4Xe6Dlp0Y_018.mp4 진행중:   0%|          | 0/6 [00:00<?, ?it/s]"
          ]
        },
        {
          "output_type": "stream",
          "name": "stdout",
          "text": [
            "KM4Xe6Dlp0Y_018.mp4 프레임 0 읽기 실패. 넘어감.\n"
          ]
        },
        {
          "output_type": "stream",
          "name": "stderr",
          "text": [
            "\n"
          ]
        },
        {
          "output_type": "stream",
          "name": "stdout",
          "text": [
            "▶ Processing 3E7hkPZ-HTk_040.mp4...\n"
          ]
        },
        {
          "output_type": "stream",
          "name": "stderr",
          "text": [
            "3E7hkPZ-HTk_040.mp4 진행중: 100%|██████████| 5/5 [00:29<00:00,  5.85s/it]\n"
          ]
        },
        {
          "output_type": "stream",
          "name": "stdout",
          "text": [
            "▶ Processing KM4Xe6Dlp0Y_081.mp4...\n"
          ]
        },
        {
          "output_type": "stream",
          "name": "stderr",
          "text": [
            "KM4Xe6Dlp0Y_081.mp4 진행중:   0%|          | 0/7 [00:00<?, ?it/s]"
          ]
        },
        {
          "output_type": "stream",
          "name": "stdout",
          "text": [
            "KM4Xe6Dlp0Y_081.mp4 프레임 0 읽기 실패. 넘어감.\n"
          ]
        },
        {
          "output_type": "stream",
          "name": "stderr",
          "text": [
            "\n"
          ]
        },
        {
          "output_type": "stream",
          "name": "stdout",
          "text": [
            "▶ Processing TS6lFDVR-3g_111.mp4...\n"
          ]
        },
        {
          "output_type": "stream",
          "name": "stderr",
          "text": [
            "TS6lFDVR-3g_111.mp4 진행중:   0%|          | 0/7 [00:00<?, ?it/s]"
          ]
        },
        {
          "output_type": "stream",
          "name": "stdout",
          "text": [
            "TS6lFDVR-3g_111.mp4 프레임 0 읽기 실패. 넘어감.\n"
          ]
        },
        {
          "output_type": "stream",
          "name": "stderr",
          "text": [
            "\n"
          ]
        },
        {
          "output_type": "stream",
          "name": "stdout",
          "text": [
            "▶ Processing -moW9jvvMr4_107.mp4...\n"
          ]
        },
        {
          "output_type": "stream",
          "name": "stderr",
          "text": [
            "-moW9jvvMr4_107.mp4 진행중:   0%|          | 0/10 [00:00<?, ?it/s]\n"
          ]
        },
        {
          "output_type": "stream",
          "name": "stdout",
          "text": [
            "-moW9jvvMr4_107.mp4 프레임 0 읽기 실패. 넘어감.\n",
            "▶ Processing -moW9jvvMr4_082.mp4...\n"
          ]
        },
        {
          "output_type": "stream",
          "name": "stderr",
          "text": [
            "-moW9jvvMr4_082.mp4 진행중:   0%|          | 0/5 [00:00<?, ?it/s]"
          ]
        },
        {
          "output_type": "stream",
          "name": "stdout",
          "text": [
            "-moW9jvvMr4_082.mp4 프레임 0 읽기 실패. 넘어감.\n"
          ]
        },
        {
          "output_type": "stream",
          "name": "stderr",
          "text": [
            "\n"
          ]
        },
        {
          "output_type": "stream",
          "name": "stdout",
          "text": [
            "▶ Processing A6Dkt7zyImk_072.mp4...\n"
          ]
        },
        {
          "output_type": "stream",
          "name": "stderr",
          "text": [
            "A6Dkt7zyImk_072.mp4 진행중: 100%|██████████| 7/7 [00:42<00:00,  6.12s/it]\n"
          ]
        },
        {
          "output_type": "stream",
          "name": "stdout",
          "text": [
            "▶ Processing XX6AFtF4dYg_033.mp4...\n"
          ]
        },
        {
          "output_type": "stream",
          "name": "stderr",
          "text": [
            "XX6AFtF4dYg_033.mp4 진행중: 100%|██████████| 6/6 [00:32<00:00,  5.35s/it]\n"
          ]
        },
        {
          "output_type": "stream",
          "name": "stdout",
          "text": [
            "▶ Processing Czg_9C7gw0o_011.mp4...\n"
          ]
        },
        {
          "output_type": "stream",
          "name": "stderr",
          "text": [
            "Czg_9C7gw0o_011.mp4 진행중: 100%|██████████| 4/4 [00:23<00:00,  5.92s/it]\n"
          ]
        },
        {
          "output_type": "stream",
          "name": "stdout",
          "text": [
            "▶ Processing KM4Xe6Dlp0Y_097.mp4...\n"
          ]
        },
        {
          "output_type": "stream",
          "name": "stderr",
          "text": [
            "KM4Xe6Dlp0Y_097.mp4 진행중:   0%|          | 0/5 [00:00<?, ?it/s]"
          ]
        },
        {
          "output_type": "stream",
          "name": "stdout",
          "text": [
            "KM4Xe6Dlp0Y_097.mp4 프레임 0 읽기 실패. 넘어감.\n"
          ]
        },
        {
          "output_type": "stream",
          "name": "stderr",
          "text": [
            "\n"
          ]
        },
        {
          "output_type": "stream",
          "name": "stdout",
          "text": [
            "▶ Processing 3E7hkPZ-HTk_055.mp4...\n"
          ]
        },
        {
          "output_type": "stream",
          "name": "stderr",
          "text": [
            "3E7hkPZ-HTk_055.mp4 진행중: 100%|██████████| 7/7 [00:43<00:00,  6.22s/it]\n"
          ]
        },
        {
          "output_type": "stream",
          "name": "stdout",
          "text": [
            "▶ Processing 3UqkgRGPqsk_050.mp4...\n"
          ]
        },
        {
          "output_type": "stream",
          "name": "stderr",
          "text": [
            "3UqkgRGPqsk_050.mp4 진행중: 100%|██████████| 7/7 [00:47<00:00,  6.85s/it]\n"
          ]
        },
        {
          "output_type": "stream",
          "name": "stdout",
          "text": [
            "▶ Processing A6Dkt7zyImk_120.mp4...\n"
          ]
        },
        {
          "output_type": "stream",
          "name": "stderr",
          "text": [
            "A6Dkt7zyImk_120.mp4 진행중: 100%|██████████| 7/7 [00:43<00:00,  6.25s/it]\n"
          ]
        },
        {
          "output_type": "stream",
          "name": "stdout",
          "text": [
            "▶ Processing TS6lFDVR-3g_012.mp4...\n"
          ]
        },
        {
          "output_type": "stream",
          "name": "stderr",
          "text": [
            "TS6lFDVR-3g_012.mp4 진행중:   0%|          | 0/8 [00:00<?, ?it/s]"
          ]
        },
        {
          "output_type": "stream",
          "name": "stdout",
          "text": [
            "TS6lFDVR-3g_012.mp4 프레임 0 읽기 실패. 넘어감.\n"
          ]
        },
        {
          "output_type": "stream",
          "name": "stderr",
          "text": [
            "\n"
          ]
        },
        {
          "output_type": "stream",
          "name": "stdout",
          "text": [
            "▶ Processing 3UqkgRGPqsk_190.mp4...\n"
          ]
        },
        {
          "output_type": "stream",
          "name": "stderr",
          "text": [
            "3UqkgRGPqsk_190.mp4 진행중: 100%|██████████| 7/7 [00:46<00:00,  6.62s/it]\n"
          ]
        },
        {
          "output_type": "stream",
          "name": "stdout",
          "text": [
            "▶ Processing 3UqkgRGPqsk_128.mp4...\n"
          ]
        },
        {
          "output_type": "stream",
          "name": "stderr",
          "text": [
            "3UqkgRGPqsk_128.mp4 진행중: 100%|██████████| 3/3 [00:17<00:00,  5.75s/it]\n"
          ]
        },
        {
          "output_type": "stream",
          "name": "stdout",
          "text": [
            "▶ Processing Czg_9C7gw0o_158.mp4...\n"
          ]
        },
        {
          "output_type": "stream",
          "name": "stderr",
          "text": [
            "Czg_9C7gw0o_158.mp4 진행중: 100%|██████████| 6/6 [00:37<00:00,  6.29s/it]\n"
          ]
        },
        {
          "output_type": "stream",
          "name": "stdout",
          "text": [
            "▶ Processing 3UqkgRGPqsk_084.mp4...\n"
          ]
        },
        {
          "output_type": "stream",
          "name": "stderr",
          "text": [
            "3UqkgRGPqsk_084.mp4 진행중: 100%|██████████| 4/4 [00:23<00:00,  5.83s/it]\n"
          ]
        },
        {
          "output_type": "stream",
          "name": "stdout",
          "text": [
            "▶ Processing Czg_9C7gw0o_135.mp4...\n"
          ]
        },
        {
          "output_type": "stream",
          "name": "stderr",
          "text": [
            "Czg_9C7gw0o_135.mp4 진행중: 100%|██████████| 5/5 [00:27<00:00,  5.53s/it]\n"
          ]
        },
        {
          "output_type": "stream",
          "name": "stdout",
          "text": [
            "▶ Processing Czg_9C7gw0o_094.mp4...\n"
          ]
        },
        {
          "output_type": "stream",
          "name": "stderr",
          "text": [
            "Czg_9C7gw0o_094.mp4 진행중: 100%|██████████| 2/2 [00:11<00:00,  5.71s/it]\n"
          ]
        },
        {
          "output_type": "stream",
          "name": "stdout",
          "text": [
            "▶ Processing 3E7hkPZ-HTk_013.mp4...\n"
          ]
        },
        {
          "output_type": "stream",
          "name": "stderr",
          "text": [
            "3E7hkPZ-HTk_013.mp4 진행중: 100%|██████████| 4/4 [00:23<00:00,  5.90s/it]\n"
          ]
        },
        {
          "output_type": "stream",
          "name": "stdout",
          "text": [
            "▶ Processing 3E7hkPZ-HTk_131.mp4...\n"
          ]
        },
        {
          "output_type": "stream",
          "name": "stderr",
          "text": [
            "3E7hkPZ-HTk_131.mp4 진행중: 100%|██████████| 7/7 [00:37<00:00,  5.42s/it]\n"
          ]
        },
        {
          "output_type": "stream",
          "name": "stdout",
          "text": [
            "▶ Processing 3UqkgRGPqsk_078.mp4...\n"
          ]
        },
        {
          "output_type": "stream",
          "name": "stderr",
          "text": [
            "3UqkgRGPqsk_078.mp4 진행중: 100%|██████████| 6/6 [00:38<00:00,  6.39s/it]\n"
          ]
        },
        {
          "output_type": "stream",
          "name": "stdout",
          "text": [
            "▶ Processing Czg_9C7gw0o_072.mp4...\n"
          ]
        },
        {
          "output_type": "stream",
          "name": "stderr",
          "text": [
            "Czg_9C7gw0o_072.mp4 진행중: 100%|██████████| 6/6 [00:35<00:00,  5.93s/it]\n"
          ]
        },
        {
          "output_type": "stream",
          "name": "stdout",
          "text": [
            "▶ Processing -moW9jvvMr4_103.mp4...\n"
          ]
        },
        {
          "output_type": "stream",
          "name": "stderr",
          "text": [
            "-moW9jvvMr4_103.mp4 진행중:   0%|          | 0/6 [00:00<?, ?it/s]"
          ]
        },
        {
          "output_type": "stream",
          "name": "stdout",
          "text": [
            "-moW9jvvMr4_103.mp4 프레임 0 읽기 실패. 넘어감.\n"
          ]
        },
        {
          "output_type": "stream",
          "name": "stderr",
          "text": [
            "\n"
          ]
        },
        {
          "output_type": "stream",
          "name": "stdout",
          "text": [
            "▶ Processing XX6AFtF4dYg_054.mp4...\n"
          ]
        },
        {
          "output_type": "stream",
          "name": "stderr",
          "text": [
            "XX6AFtF4dYg_054.mp4 진행중: 100%|██████████| 6/6 [00:32<00:00,  5.50s/it]\n"
          ]
        },
        {
          "output_type": "stream",
          "name": "stdout",
          "text": [
            "▶ Processing Czg_9C7gw0o_034.mp4...\n"
          ]
        },
        {
          "output_type": "stream",
          "name": "stderr",
          "text": [
            "Czg_9C7gw0o_034.mp4 진행중: 100%|██████████| 5/5 [00:29<00:00,  5.90s/it]\n"
          ]
        },
        {
          "output_type": "stream",
          "name": "stdout",
          "text": [
            "▶ Processing Czg_9C7gw0o_087.mp4...\n"
          ]
        },
        {
          "output_type": "stream",
          "name": "stderr",
          "text": [
            "Czg_9C7gw0o_087.mp4 진행중: 100%|██████████| 7/7 [00:40<00:00,  5.79s/it]\n"
          ]
        },
        {
          "output_type": "stream",
          "name": "stdout",
          "text": [
            "▶ Processing 3E7hkPZ-HTk_068.mp4...\n"
          ]
        },
        {
          "output_type": "stream",
          "name": "stderr",
          "text": [
            "3E7hkPZ-HTk_068.mp4 진행중: 100%|██████████| 7/7 [00:41<00:00,  5.93s/it]\n"
          ]
        },
        {
          "output_type": "stream",
          "name": "stdout",
          "text": [
            "▶ Processing XX6AFtF4dYg_006.mp4...\n"
          ]
        },
        {
          "output_type": "stream",
          "name": "stderr",
          "text": [
            "XX6AFtF4dYg_006.mp4 진행중: 100%|██████████| 6/6 [00:33<00:00,  5.65s/it]\n"
          ]
        },
        {
          "output_type": "stream",
          "name": "stdout",
          "text": [
            "▶ Processing -moW9jvvMr4_086.mp4...\n"
          ]
        },
        {
          "output_type": "stream",
          "name": "stderr",
          "text": [
            "-moW9jvvMr4_086.mp4 진행중:   0%|          | 0/4 [00:00<?, ?it/s]"
          ]
        },
        {
          "output_type": "stream",
          "name": "stdout",
          "text": [
            "-moW9jvvMr4_086.mp4 프레임 0 읽기 실패. 넘어감.\n"
          ]
        },
        {
          "output_type": "stream",
          "name": "stderr",
          "text": [
            "\n"
          ]
        },
        {
          "output_type": "stream",
          "name": "stdout",
          "text": [
            "▶ Processing TS6lFDVR-3g_069.mp4...\n"
          ]
        },
        {
          "output_type": "stream",
          "name": "stderr",
          "text": [
            "TS6lFDVR-3g_069.mp4 진행중:   0%|          | 0/5 [00:00<?, ?it/s]"
          ]
        },
        {
          "output_type": "stream",
          "name": "stdout",
          "text": [
            "TS6lFDVR-3g_069.mp4 프레임 0 읽기 실패. 넘어감.\n"
          ]
        },
        {
          "output_type": "stream",
          "name": "stderr",
          "text": [
            "\n"
          ]
        },
        {
          "output_type": "stream",
          "name": "stdout",
          "text": [
            "▶ Processing 3UqkgRGPqsk_188.mp4...\n"
          ]
        },
        {
          "output_type": "stream",
          "name": "stderr",
          "text": [
            "3UqkgRGPqsk_188.mp4 진행중: 100%|██████████| 5/5 [00:31<00:00,  6.28s/it]\n"
          ]
        },
        {
          "output_type": "stream",
          "name": "stdout",
          "text": [
            "▶ Processing 3E7hkPZ-HTk_143.mp4...\n"
          ]
        },
        {
          "output_type": "stream",
          "name": "stderr",
          "text": [
            "3E7hkPZ-HTk_143.mp4 진행중: 100%|██████████| 7/7 [00:42<00:00,  6.10s/it]\n"
          ]
        },
        {
          "output_type": "stream",
          "name": "stdout",
          "text": [
            "▶ Processing A6Dkt7zyImk_103.mp4...\n"
          ]
        },
        {
          "output_type": "stream",
          "name": "stderr",
          "text": [
            "A6Dkt7zyImk_103.mp4 진행중: 100%|██████████| 4/4 [00:22<00:00,  5.52s/it]\n"
          ]
        },
        {
          "output_type": "stream",
          "name": "stdout",
          "text": [
            "▶ Processing -moW9jvvMr4_019.mp4...\n"
          ]
        },
        {
          "output_type": "stream",
          "name": "stderr",
          "text": [
            "-moW9jvvMr4_019.mp4 진행중:   0%|          | 0/7 [00:00<?, ?it/s]\n"
          ]
        },
        {
          "output_type": "stream",
          "name": "stdout",
          "text": [
            "-moW9jvvMr4_019.mp4 프레임 0 읽기 실패. 넘어감.\n",
            "▶ Processing 3E7hkPZ-HTk_161.mp4...\n"
          ]
        },
        {
          "output_type": "stream",
          "name": "stderr",
          "text": [
            "3E7hkPZ-HTk_161.mp4 진행중: 100%|██████████| 4/4 [00:22<00:00,  5.68s/it]\n"
          ]
        },
        {
          "output_type": "stream",
          "name": "stdout",
          "text": [
            "▶ Processing Czg_9C7gw0o_047.mp4...\n"
          ]
        },
        {
          "output_type": "stream",
          "name": "stderr",
          "text": [
            "Czg_9C7gw0o_047.mp4 진행중: 100%|██████████| 7/7 [00:41<00:00,  5.86s/it]\n"
          ]
        },
        {
          "output_type": "stream",
          "name": "stdout",
          "text": [
            "▶ Processing 3E7hkPZ-HTk_018.mp4...\n"
          ]
        },
        {
          "output_type": "stream",
          "name": "stderr",
          "text": [
            "3E7hkPZ-HTk_018.mp4 진행중: 100%|██████████| 5/5 [00:29<00:00,  5.96s/it]\n"
          ]
        },
        {
          "output_type": "stream",
          "name": "stdout",
          "text": [
            "▶ Processing 3UqkgRGPqsk_160.mp4...\n"
          ]
        },
        {
          "output_type": "stream",
          "name": "stderr",
          "text": [
            "3UqkgRGPqsk_160.mp4 진행중: 100%|██████████| 7/7 [00:45<00:00,  6.51s/it]\n"
          ]
        },
        {
          "output_type": "stream",
          "name": "stdout",
          "text": [
            "▶ Processing Y45aAZ5-aBw_004.mp4...\n"
          ]
        },
        {
          "output_type": "stream",
          "name": "stderr",
          "text": [
            "Y45aAZ5-aBw_004.mp4 진행중: 100%|██████████| 6/6 [00:32<00:00,  5.40s/it]\n"
          ]
        },
        {
          "output_type": "stream",
          "name": "stdout",
          "text": [
            "▶ Processing 3UqkgRGPqsk_099.mp4...\n"
          ]
        },
        {
          "output_type": "stream",
          "name": "stderr",
          "text": [
            "3UqkgRGPqsk_099.mp4 진행중: 100%|██████████| 7/7 [00:42<00:00,  6.05s/it]\n"
          ]
        },
        {
          "output_type": "stream",
          "name": "stdout",
          "text": [
            "▶ Processing 3UqkgRGPqsk_106.mp4...\n"
          ]
        },
        {
          "output_type": "stream",
          "name": "stderr",
          "text": [
            "3UqkgRGPqsk_106.mp4 진행중: 100%|██████████| 6/6 [00:38<00:00,  6.44s/it]\n"
          ]
        },
        {
          "output_type": "stream",
          "name": "stdout",
          "text": [
            "▶ Processing TS6lFDVR-3g_060.mp4...\n"
          ]
        },
        {
          "output_type": "stream",
          "name": "stderr",
          "text": [
            "TS6lFDVR-3g_060.mp4 진행중:   0%|          | 0/3 [00:00<?, ?it/s]\n"
          ]
        },
        {
          "output_type": "stream",
          "name": "stdout",
          "text": [
            "TS6lFDVR-3g_060.mp4 프레임 0 읽기 실패. 넘어감.\n",
            "▶ Processing -moW9jvvMr4_072.mp4...\n"
          ]
        },
        {
          "output_type": "stream",
          "name": "stderr",
          "text": [
            "-moW9jvvMr4_072.mp4 진행중:   0%|          | 0/5 [00:00<?, ?it/s]"
          ]
        },
        {
          "output_type": "stream",
          "name": "stdout",
          "text": [
            "-moW9jvvMr4_072.mp4 프레임 0 읽기 실패. 넘어감.\n"
          ]
        },
        {
          "output_type": "stream",
          "name": "stderr",
          "text": [
            "\n"
          ]
        },
        {
          "output_type": "stream",
          "name": "stdout",
          "text": [
            "▶ Processing TS6lFDVR-3g_023.mp4...\n"
          ]
        },
        {
          "output_type": "stream",
          "name": "stderr",
          "text": [
            "TS6lFDVR-3g_023.mp4 진행중:   0%|          | 0/3 [00:00<?, ?it/s]"
          ]
        },
        {
          "output_type": "stream",
          "name": "stdout",
          "text": [
            "TS6lFDVR-3g_023.mp4 프레임 0 읽기 실패. 넘어감.\n"
          ]
        },
        {
          "output_type": "stream",
          "name": "stderr",
          "text": [
            "\n"
          ]
        },
        {
          "output_type": "stream",
          "name": "stdout",
          "text": [
            "▶ Processing 3UqkgRGPqsk_112.mp4...\n"
          ]
        },
        {
          "output_type": "stream",
          "name": "stderr",
          "text": [
            "3UqkgRGPqsk_112.mp4 진행중: 100%|██████████| 3/3 [00:17<00:00,  5.82s/it]\n"
          ]
        },
        {
          "output_type": "stream",
          "name": "stdout",
          "text": [
            "▶ Processing A6Dkt7zyImk_060.mp4...\n"
          ]
        },
        {
          "output_type": "stream",
          "name": "stderr",
          "text": [
            "A6Dkt7zyImk_060.mp4 진행중: 100%|██████████| 6/6 [00:33<00:00,  5.53s/it]\n"
          ]
        },
        {
          "output_type": "stream",
          "name": "stdout",
          "text": [
            "▶ Processing Czg_9C7gw0o_130.mp4...\n"
          ]
        },
        {
          "output_type": "stream",
          "name": "stderr",
          "text": [
            "Czg_9C7gw0o_130.mp4 진행중: 100%|██████████| 7/7 [00:41<00:00,  5.87s/it]\n"
          ]
        },
        {
          "output_type": "stream",
          "name": "stdout",
          "text": [
            "▶ Processing -moW9jvvMr4_096.mp4...\n"
          ]
        },
        {
          "output_type": "stream",
          "name": "stderr",
          "text": [
            "-moW9jvvMr4_096.mp4 진행중:   0%|          | 0/5 [00:00<?, ?it/s]\n"
          ]
        },
        {
          "output_type": "stream",
          "name": "stdout",
          "text": [
            "-moW9jvvMr4_096.mp4 프레임 0 읽기 실패. 넘어감.\n",
            "▶ Processing A6Dkt7zyImk_067.mp4...\n"
          ]
        },
        {
          "output_type": "stream",
          "name": "stderr",
          "text": [
            "A6Dkt7zyImk_067.mp4 진행중: 100%|██████████| 5/5 [00:29<00:00,  5.97s/it]\n"
          ]
        },
        {
          "output_type": "stream",
          "name": "stdout",
          "text": [
            "▶ Processing 3UqkgRGPqsk_005.mp4...\n"
          ]
        },
        {
          "output_type": "stream",
          "name": "stderr",
          "text": [
            "3UqkgRGPqsk_005.mp4 진행중: 100%|██████████| 4/4 [00:24<00:00,  6.22s/it]\n"
          ]
        },
        {
          "output_type": "stream",
          "name": "stdout",
          "text": [
            "▶ Processing A6Dkt7zyImk_118.mp4...\n"
          ]
        },
        {
          "output_type": "stream",
          "name": "stderr",
          "text": [
            "A6Dkt7zyImk_118.mp4 진행중: 100%|██████████| 5/5 [00:29<00:00,  5.93s/it]\n"
          ]
        },
        {
          "output_type": "stream",
          "name": "stdout",
          "text": [
            "▶ Processing Czg_9C7gw0o_041.mp4...\n"
          ]
        },
        {
          "output_type": "stream",
          "name": "stderr",
          "text": [
            "Czg_9C7gw0o_041.mp4 진행중: 100%|██████████| 8/8 [00:49<00:00,  6.22s/it]\n"
          ]
        },
        {
          "output_type": "stream",
          "name": "stdout",
          "text": [
            "▶ Processing Czg_9C7gw0o_171.mp4...\n"
          ]
        },
        {
          "output_type": "stream",
          "name": "stderr",
          "text": [
            "Czg_9C7gw0o_171.mp4 진행중: 100%|██████████| 8/8 [00:47<00:00,  5.98s/it]\n"
          ]
        },
        {
          "output_type": "stream",
          "name": "stdout",
          "text": [
            "▶ Processing A6Dkt7zyImk_090.mp4...\n"
          ]
        },
        {
          "output_type": "stream",
          "name": "stderr",
          "text": [
            "A6Dkt7zyImk_090.mp4 진행중: 100%|██████████| 5/5 [00:28<00:00,  5.73s/it]\n"
          ]
        },
        {
          "output_type": "stream",
          "name": "stdout",
          "text": [
            "▶ Processing 3UqkgRGPqsk_020.mp4...\n"
          ]
        },
        {
          "output_type": "stream",
          "name": "stderr",
          "text": [
            "3UqkgRGPqsk_020.mp4 진행중: 100%|██████████| 7/7 [00:47<00:00,  6.73s/it]\n"
          ]
        },
        {
          "output_type": "stream",
          "name": "stdout",
          "text": [
            "▶ Processing 3UqkgRGPqsk_155.mp4...\n"
          ]
        },
        {
          "output_type": "stream",
          "name": "stderr",
          "text": [
            "3UqkgRGPqsk_155.mp4 진행중: 100%|██████████| 5/5 [00:30<00:00,  6.15s/it]\n"
          ]
        },
        {
          "output_type": "stream",
          "name": "stdout",
          "text": [
            "▶ Processing A6Dkt7zyImk_034.mp4...\n"
          ]
        },
        {
          "output_type": "stream",
          "name": "stderr",
          "text": [
            "A6Dkt7zyImk_034.mp4 진행중: 100%|██████████| 2/2 [00:10<00:00,  5.35s/it]\n"
          ]
        },
        {
          "output_type": "stream",
          "name": "stdout",
          "text": [
            "▶ Processing 3E7hkPZ-HTk_099.mp4...\n"
          ]
        },
        {
          "output_type": "stream",
          "name": "stderr",
          "text": [
            "3E7hkPZ-HTk_099.mp4 진행중: 100%|██████████| 4/4 [00:22<00:00,  5.67s/it]\n"
          ]
        },
        {
          "output_type": "stream",
          "name": "stdout",
          "text": [
            "▶ Processing 3UqkgRGPqsk_064.mp4...\n"
          ]
        },
        {
          "output_type": "stream",
          "name": "stderr",
          "text": [
            "3UqkgRGPqsk_064.mp4 진행중: 100%|██████████| 11/11 [01:11<00:00,  6.49s/it]\n"
          ]
        },
        {
          "output_type": "stream",
          "name": "stdout",
          "text": [
            "▶ Processing XX6AFtF4dYg_035.mp4...\n"
          ]
        },
        {
          "output_type": "stream",
          "name": "stderr",
          "text": [
            "XX6AFtF4dYg_035.mp4 진행중: 100%|██████████| 6/6 [00:32<00:00,  5.42s/it]\n"
          ]
        },
        {
          "output_type": "stream",
          "name": "stdout",
          "text": [
            "▶ Processing Y45aAZ5-aBw_007.mp4...\n"
          ]
        },
        {
          "output_type": "stream",
          "name": "stderr",
          "text": [
            "Y45aAZ5-aBw_007.mp4 진행중: 100%|██████████| 6/6 [00:33<00:00,  5.56s/it]\n"
          ]
        },
        {
          "output_type": "stream",
          "name": "stdout",
          "text": [
            "▶ Processing A6Dkt7zyImk_116.mp4...\n"
          ]
        },
        {
          "output_type": "stream",
          "name": "stderr",
          "text": [
            "A6Dkt7zyImk_116.mp4 진행중: 100%|██████████| 4/4 [00:22<00:00,  5.70s/it]\n"
          ]
        },
        {
          "output_type": "stream",
          "name": "stdout",
          "text": [
            "▶ Processing 3UqkgRGPqsk_146.mp4...\n"
          ]
        },
        {
          "output_type": "stream",
          "name": "stderr",
          "text": [
            "3UqkgRGPqsk_146.mp4 진행중: 100%|██████████| 3/3 [00:17<00:00,  5.70s/it]\n"
          ]
        },
        {
          "output_type": "stream",
          "name": "stdout",
          "text": [
            "▶ Processing KM4Xe6Dlp0Y_113.mp4...\n"
          ]
        },
        {
          "output_type": "stream",
          "name": "stderr",
          "text": [
            "KM4Xe6Dlp0Y_113.mp4 진행중:   0%|          | 0/6 [00:00<?, ?it/s]"
          ]
        },
        {
          "output_type": "stream",
          "name": "stdout",
          "text": [
            "KM4Xe6Dlp0Y_113.mp4 프레임 0 읽기 실패. 넘어감.\n"
          ]
        },
        {
          "output_type": "stream",
          "name": "stderr",
          "text": [
            "\n"
          ]
        },
        {
          "output_type": "stream",
          "name": "stdout",
          "text": [
            "▶ Processing KM4Xe6Dlp0Y_012.mp4...\n"
          ]
        },
        {
          "output_type": "stream",
          "name": "stderr",
          "text": [
            "KM4Xe6Dlp0Y_012.mp4 진행중:   0%|          | 0/4 [00:00<?, ?it/s]"
          ]
        },
        {
          "output_type": "stream",
          "name": "stdout",
          "text": [
            "KM4Xe6Dlp0Y_012.mp4 프레임 0 읽기 실패. 넘어감.\n"
          ]
        },
        {
          "output_type": "stream",
          "name": "stderr",
          "text": [
            "\n"
          ]
        },
        {
          "output_type": "stream",
          "name": "stdout",
          "text": [
            "▶ Processing XX6AFtF4dYg_044.mp4...\n"
          ]
        },
        {
          "output_type": "stream",
          "name": "stderr",
          "text": [
            "XX6AFtF4dYg_044.mp4 진행중: 100%|██████████| 6/6 [00:33<00:00,  5.65s/it]\n"
          ]
        },
        {
          "output_type": "stream",
          "name": "stdout",
          "text": [
            "▶ Processing 3UqkgRGPqsk_058.mp4...\n"
          ]
        },
        {
          "output_type": "stream",
          "name": "stderr",
          "text": [
            "3UqkgRGPqsk_058.mp4 진행중: 100%|██████████| 5/5 [00:30<00:00,  6.15s/it]\n"
          ]
        },
        {
          "output_type": "stream",
          "name": "stdout",
          "text": [
            "▶ Processing XX6AFtF4dYg_069.mp4...\n"
          ]
        },
        {
          "output_type": "stream",
          "name": "stderr",
          "text": [
            "XX6AFtF4dYg_069.mp4 진행중: 100%|██████████| 6/6 [00:32<00:00,  5.35s/it]\n"
          ]
        },
        {
          "output_type": "stream",
          "name": "stdout",
          "text": [
            "▶ Processing A6Dkt7zyImk_018.mp4...\n"
          ]
        },
        {
          "output_type": "stream",
          "name": "stderr",
          "text": [
            "A6Dkt7zyImk_018.mp4 진행중: 100%|██████████| 7/7 [00:42<00:00,  6.05s/it]\n"
          ]
        },
        {
          "output_type": "stream",
          "name": "stdout",
          "text": [
            "▶ Processing -moW9jvvMr4_101.mp4...\n"
          ]
        },
        {
          "output_type": "stream",
          "name": "stderr",
          "text": [
            "-moW9jvvMr4_101.mp4 진행중:   0%|          | 0/10 [00:00<?, ?it/s]"
          ]
        },
        {
          "output_type": "stream",
          "name": "stdout",
          "text": [
            "-moW9jvvMr4_101.mp4 프레임 0 읽기 실패. 넘어감.\n"
          ]
        },
        {
          "output_type": "stream",
          "name": "stderr",
          "text": [
            "\n"
          ]
        },
        {
          "output_type": "stream",
          "name": "stdout",
          "text": [
            "▶ Processing -moW9jvvMr4_088.mp4...\n"
          ]
        },
        {
          "output_type": "stream",
          "name": "stderr",
          "text": [
            "-moW9jvvMr4_088.mp4 진행중:   0%|          | 0/5 [00:00<?, ?it/s]"
          ]
        },
        {
          "output_type": "stream",
          "name": "stdout",
          "text": [
            "-moW9jvvMr4_088.mp4 프레임 0 읽기 실패. 넘어감.\n"
          ]
        },
        {
          "output_type": "stream",
          "name": "stderr",
          "text": [
            "\n"
          ]
        },
        {
          "output_type": "stream",
          "name": "stdout",
          "text": [
            "▶ Processing KM4Xe6Dlp0Y_006.mp4...\n"
          ]
        },
        {
          "output_type": "stream",
          "name": "stderr",
          "text": [
            "KM4Xe6Dlp0Y_006.mp4 진행중:   0%|          | 0/5 [00:00<?, ?it/s]"
          ]
        },
        {
          "output_type": "stream",
          "name": "stdout",
          "text": [
            "KM4Xe6Dlp0Y_006.mp4 프레임 0 읽기 실패. 넘어감.\n"
          ]
        },
        {
          "output_type": "stream",
          "name": "stderr",
          "text": [
            "\n"
          ]
        },
        {
          "output_type": "stream",
          "name": "stdout",
          "text": [
            "▶ Processing KM4Xe6Dlp0Y_032.mp4...\n"
          ]
        },
        {
          "output_type": "stream",
          "name": "stderr",
          "text": [
            "KM4Xe6Dlp0Y_032.mp4 진행중:   0%|          | 0/5 [00:00<?, ?it/s]"
          ]
        },
        {
          "output_type": "stream",
          "name": "stdout",
          "text": [
            "KM4Xe6Dlp0Y_032.mp4 프레임 0 읽기 실패. 넘어감.\n"
          ]
        },
        {
          "output_type": "stream",
          "name": "stderr",
          "text": [
            "\n"
          ]
        },
        {
          "output_type": "stream",
          "name": "stdout",
          "text": [
            "▶ Processing -moW9jvvMr4_060.mp4...\n"
          ]
        },
        {
          "output_type": "stream",
          "name": "stderr",
          "text": [
            "-moW9jvvMr4_060.mp4 진행중:   0%|          | 0/5 [00:00<?, ?it/s]"
          ]
        },
        {
          "output_type": "stream",
          "name": "stdout",
          "text": [
            "-moW9jvvMr4_060.mp4 프레임 0 읽기 실패. 넘어감.\n"
          ]
        },
        {
          "output_type": "stream",
          "name": "stderr",
          "text": [
            "\n"
          ]
        },
        {
          "output_type": "stream",
          "name": "stdout",
          "text": [
            "▶ Processing Czg_9C7gw0o_141.mp4...\n"
          ]
        },
        {
          "output_type": "stream",
          "name": "stderr",
          "text": [
            "Czg_9C7gw0o_141.mp4 진행중: 100%|██████████| 8/8 [00:47<00:00,  5.94s/it]\n"
          ]
        },
        {
          "output_type": "stream",
          "name": "stdout",
          "text": [
            "▶ Processing KM4Xe6Dlp0Y_060.mp4...\n"
          ]
        },
        {
          "output_type": "stream",
          "name": "stderr",
          "text": [
            "KM4Xe6Dlp0Y_060.mp4 진행중:   0%|          | 0/4 [00:00<?, ?it/s]\n"
          ]
        },
        {
          "output_type": "stream",
          "name": "stdout",
          "text": [
            "KM4Xe6Dlp0Y_060.mp4 프레임 0 읽기 실패. 넘어감.\n",
            "▶ Processing KM4Xe6Dlp0Y_089.mp4...\n"
          ]
        },
        {
          "output_type": "stream",
          "name": "stderr",
          "text": [
            "KM4Xe6Dlp0Y_089.mp4 진행중:   0%|          | 0/4 [00:00<?, ?it/s]"
          ]
        },
        {
          "output_type": "stream",
          "name": "stdout",
          "text": [
            "KM4Xe6Dlp0Y_089.mp4 프레임 0 읽기 실패. 넘어감.\n"
          ]
        },
        {
          "output_type": "stream",
          "name": "stderr",
          "text": [
            "\n"
          ]
        },
        {
          "output_type": "stream",
          "name": "stdout",
          "text": [
            "▶ Processing KM4Xe6Dlp0Y_037.mp4...\n"
          ]
        },
        {
          "output_type": "stream",
          "name": "stderr",
          "text": [
            "KM4Xe6Dlp0Y_037.mp4 진행중:   0%|          | 0/6 [00:00<?, ?it/s]"
          ]
        },
        {
          "output_type": "stream",
          "name": "stdout",
          "text": [
            "KM4Xe6Dlp0Y_037.mp4 프레임 0 읽기 실패. 넘어감.\n"
          ]
        },
        {
          "output_type": "stream",
          "name": "stderr",
          "text": [
            "\n"
          ]
        },
        {
          "output_type": "stream",
          "name": "stdout",
          "text": [
            "▶ Processing A6Dkt7zyImk_145.mp4...\n"
          ]
        },
        {
          "output_type": "stream",
          "name": "stderr",
          "text": [
            "A6Dkt7zyImk_145.mp4 진행중: 100%|██████████| 8/8 [00:51<00:00,  6.44s/it]\n"
          ]
        },
        {
          "output_type": "stream",
          "name": "stdout",
          "text": [
            "▶ Processing TS6lFDVR-3g_080.mp4...\n"
          ]
        },
        {
          "output_type": "stream",
          "name": "stderr",
          "text": [
            "TS6lFDVR-3g_080.mp4 진행중:   0%|          | 0/5 [00:00<?, ?it/s]"
          ]
        },
        {
          "output_type": "stream",
          "name": "stdout",
          "text": [
            "TS6lFDVR-3g_080.mp4 프레임 0 읽기 실패. 넘어감.\n"
          ]
        },
        {
          "output_type": "stream",
          "name": "stderr",
          "text": [
            "\n"
          ]
        },
        {
          "output_type": "stream",
          "name": "stdout",
          "text": [
            "▶ Processing 3E7hkPZ-HTk_126.mp4...\n"
          ]
        },
        {
          "output_type": "stream",
          "name": "stderr",
          "text": [
            "3E7hkPZ-HTk_126.mp4 진행중: 100%|██████████| 7/7 [00:42<00:00,  6.03s/it]\n"
          ]
        },
        {
          "output_type": "stream",
          "name": "stdout",
          "text": [
            "▶ Processing -moW9jvvMr4_067.mp4...\n"
          ]
        },
        {
          "output_type": "stream",
          "name": "stderr",
          "text": [
            "-moW9jvvMr4_067.mp4 진행중:   0%|          | 0/4 [00:00<?, ?it/s]"
          ]
        },
        {
          "output_type": "stream",
          "name": "stdout",
          "text": [
            "-moW9jvvMr4_067.mp4 프레임 0 읽기 실패. 넘어감.\n"
          ]
        },
        {
          "output_type": "stream",
          "name": "stderr",
          "text": [
            "\n"
          ]
        },
        {
          "output_type": "stream",
          "name": "stdout",
          "text": [
            "▶ Processing Czg_9C7gw0o_162.mp4...\n"
          ]
        },
        {
          "output_type": "stream",
          "name": "stderr",
          "text": [
            "Czg_9C7gw0o_162.mp4 진행중: 100%|██████████| 5/5 [00:30<00:00,  6.00s/it]\n"
          ]
        },
        {
          "output_type": "stream",
          "name": "stdout",
          "text": [
            "▶ Processing TS6lFDVR-3g_010.mp4...\n"
          ]
        },
        {
          "output_type": "stream",
          "name": "stderr",
          "text": [
            "TS6lFDVR-3g_010.mp4 진행중:   0%|          | 0/5 [00:00<?, ?it/s]\n"
          ]
        },
        {
          "output_type": "stream",
          "name": "stdout",
          "text": [
            "TS6lFDVR-3g_010.mp4 프레임 0 읽기 실패. 넘어감.\n",
            "▶ Processing TS6lFDVR-3g_011.mp4...\n"
          ]
        },
        {
          "output_type": "stream",
          "name": "stderr",
          "text": [
            "TS6lFDVR-3g_011.mp4 진행중:   0%|          | 0/5 [00:00<?, ?it/s]"
          ]
        },
        {
          "output_type": "stream",
          "name": "stdout",
          "text": [
            "TS6lFDVR-3g_011.mp4 프레임 0 읽기 실패. 넘어감.\n"
          ]
        },
        {
          "output_type": "stream",
          "name": "stderr",
          "text": [
            "\n"
          ]
        },
        {
          "output_type": "stream",
          "name": "stdout",
          "text": [
            "▶ Processing KM4Xe6Dlp0Y_020.mp4...\n"
          ]
        },
        {
          "output_type": "stream",
          "name": "stderr",
          "text": [
            "KM4Xe6Dlp0Y_020.mp4 진행중:   0%|          | 0/7 [00:00<?, ?it/s]"
          ]
        },
        {
          "output_type": "stream",
          "name": "stdout",
          "text": [
            "KM4Xe6Dlp0Y_020.mp4 프레임 0 읽기 실패. 넘어감.\n"
          ]
        },
        {
          "output_type": "stream",
          "name": "stderr",
          "text": [
            "\n"
          ]
        },
        {
          "output_type": "stream",
          "name": "stdout",
          "text": [
            "▶ Processing A6Dkt7zyImk_021.mp4...\n"
          ]
        },
        {
          "output_type": "stream",
          "name": "stderr",
          "text": [
            "A6Dkt7zyImk_021.mp4 진행중: 100%|██████████| 6/6 [00:35<00:00,  5.95s/it]\n"
          ]
        },
        {
          "output_type": "stream",
          "name": "stdout",
          "text": [
            "▶ Processing A6Dkt7zyImk_108.mp4...\n"
          ]
        },
        {
          "output_type": "stream",
          "name": "stderr",
          "text": [
            "A6Dkt7zyImk_108.mp4 진행중: 100%|██████████| 8/8 [00:48<00:00,  6.06s/it]\n"
          ]
        },
        {
          "output_type": "stream",
          "name": "stdout",
          "text": [
            "▶ Processing Czg_9C7gw0o_008.mp4...\n"
          ]
        },
        {
          "output_type": "stream",
          "name": "stderr",
          "text": [
            "Czg_9C7gw0o_008.mp4 진행중: 100%|██████████| 5/5 [00:28<00:00,  5.80s/it]\n"
          ]
        },
        {
          "output_type": "stream",
          "name": "stdout",
          "text": [
            "▶ Processing 3UqkgRGPqsk_148.mp4...\n"
          ]
        },
        {
          "output_type": "stream",
          "name": "stderr",
          "text": [
            "3UqkgRGPqsk_148.mp4 진행중: 100%|██████████| 6/6 [00:38<00:00,  6.36s/it]\n"
          ]
        },
        {
          "output_type": "stream",
          "name": "stdout",
          "text": [
            "▶ Processing Czg_9C7gw0o_000.mp4...\n"
          ]
        },
        {
          "output_type": "stream",
          "name": "stderr",
          "text": [
            "Czg_9C7gw0o_000.mp4 진행중: 100%|██████████| 10/10 [00:59<00:00,  5.91s/it]\n"
          ]
        },
        {
          "output_type": "stream",
          "name": "stdout",
          "text": [
            "▶ Processing Czg_9C7gw0o_064.mp4...\n"
          ]
        },
        {
          "output_type": "stream",
          "name": "stderr",
          "text": [
            "Czg_9C7gw0o_064.mp4 진행중: 100%|██████████| 6/6 [00:37<00:00,  6.24s/it]\n"
          ]
        },
        {
          "output_type": "stream",
          "name": "stdout",
          "text": [
            "▶ Processing 3UqkgRGPqsk_089.mp4...\n"
          ]
        },
        {
          "output_type": "stream",
          "name": "stderr",
          "text": [
            "3UqkgRGPqsk_089.mp4 진행중: 100%|██████████| 3/3 [00:17<00:00,  5.81s/it]\n"
          ]
        },
        {
          "output_type": "stream",
          "name": "stdout",
          "text": [
            "▶ Processing Czg_9C7gw0o_150.mp4...\n"
          ]
        },
        {
          "output_type": "stream",
          "name": "stderr",
          "text": [
            "Czg_9C7gw0o_150.mp4 진행중: 100%|██████████| 5/5 [00:29<00:00,  5.93s/it]\n"
          ]
        },
        {
          "output_type": "stream",
          "name": "stdout",
          "text": [
            "▶ Processing KM4Xe6Dlp0Y_109.mp4...\n"
          ]
        },
        {
          "output_type": "stream",
          "name": "stderr",
          "text": [
            "KM4Xe6Dlp0Y_109.mp4 진행중:   0%|          | 0/6 [00:00<?, ?it/s]\n"
          ]
        },
        {
          "output_type": "stream",
          "name": "stdout",
          "text": [
            "KM4Xe6Dlp0Y_109.mp4 프레임 0 읽기 실패. 넘어감.\n",
            "▶ Processing KM4Xe6Dlp0Y_067.mp4...\n"
          ]
        },
        {
          "output_type": "stream",
          "name": "stderr",
          "text": [
            "KM4Xe6Dlp0Y_067.mp4 진행중:   0%|          | 0/4 [00:00<?, ?it/s]"
          ]
        },
        {
          "output_type": "stream",
          "name": "stdout",
          "text": [
            "KM4Xe6Dlp0Y_067.mp4 프레임 0 읽기 실패. 넘어감.\n"
          ]
        },
        {
          "output_type": "stream",
          "name": "stderr",
          "text": [
            "\n"
          ]
        },
        {
          "output_type": "stream",
          "name": "stdout",
          "text": [
            "▶ Processing Czg_9C7gw0o_030.mp4...\n"
          ]
        },
        {
          "output_type": "stream",
          "name": "stderr",
          "text": [
            "Czg_9C7gw0o_030.mp4 진행중: 100%|██████████| 11/11 [01:08<00:00,  6.21s/it]\n"
          ]
        },
        {
          "output_type": "stream",
          "name": "stdout",
          "text": [
            "▶ Processing A6Dkt7zyImk_109.mp4...\n"
          ]
        },
        {
          "output_type": "stream",
          "name": "stderr",
          "text": [
            "A6Dkt7zyImk_109.mp4 진행중: 100%|██████████| 7/7 [00:41<00:00,  5.89s/it]\n"
          ]
        },
        {
          "output_type": "stream",
          "name": "stdout",
          "text": [
            "▶ Processing Czg_9C7gw0o_055.mp4...\n"
          ]
        },
        {
          "output_type": "stream",
          "name": "stderr",
          "text": [
            "Czg_9C7gw0o_055.mp4 진행중: 100%|██████████| 10/10 [01:00<00:00,  6.03s/it]\n"
          ]
        },
        {
          "output_type": "stream",
          "name": "stdout",
          "text": [
            "▶ Processing XX6AFtF4dYg_075.mp4...\n"
          ]
        },
        {
          "output_type": "stream",
          "name": "stderr",
          "text": [
            "XX6AFtF4dYg_075.mp4 진행중: 100%|██████████| 6/6 [00:32<00:00,  5.49s/it]\n"
          ]
        },
        {
          "output_type": "stream",
          "name": "stdout",
          "text": [
            "▶ Processing 3UqkgRGPqsk_012.mp4...\n"
          ]
        },
        {
          "output_type": "stream",
          "name": "stderr",
          "text": [
            "3UqkgRGPqsk_012.mp4 진행중: 100%|██████████| 7/7 [00:46<00:00,  6.59s/it]\n"
          ]
        },
        {
          "output_type": "stream",
          "name": "stdout",
          "text": [
            "▶ Processing 3E7hkPZ-HTk_014.mp4...\n"
          ]
        },
        {
          "output_type": "stream",
          "name": "stderr",
          "text": [
            "3E7hkPZ-HTk_014.mp4 진행중: 100%|██████████| 4/4 [00:22<00:00,  5.74s/it]\n"
          ]
        },
        {
          "output_type": "stream",
          "name": "stdout",
          "text": [
            "▶ Processing KM4Xe6Dlp0Y_061.mp4...\n"
          ]
        },
        {
          "output_type": "stream",
          "name": "stderr",
          "text": [
            "KM4Xe6Dlp0Y_061.mp4 진행중:   0%|          | 0/4 [00:00<?, ?it/s]\n"
          ]
        },
        {
          "output_type": "stream",
          "name": "stdout",
          "text": [
            "KM4Xe6Dlp0Y_061.mp4 프레임 0 읽기 실패. 넘어감.\n",
            "▶ Processing 3UqkgRGPqsk_163.mp4...\n"
          ]
        },
        {
          "output_type": "stream",
          "name": "stderr",
          "text": [
            "3UqkgRGPqsk_163.mp4 진행중: 100%|██████████| 6/6 [00:35<00:00,  5.86s/it]\n"
          ]
        },
        {
          "output_type": "stream",
          "name": "stdout",
          "text": [
            "▶ Processing 3UqkgRGPqsk_091.mp4...\n"
          ]
        },
        {
          "output_type": "stream",
          "name": "stderr",
          "text": [
            "3UqkgRGPqsk_091.mp4 진행중: 100%|██████████| 5/5 [00:30<00:00,  6.18s/it]\n"
          ]
        },
        {
          "output_type": "stream",
          "name": "stdout",
          "text": [
            "▶ Processing A6Dkt7zyImk_074.mp4...\n"
          ]
        },
        {
          "output_type": "stream",
          "name": "stderr",
          "text": [
            "A6Dkt7zyImk_074.mp4 진행중: 100%|██████████| 6/6 [00:37<00:00,  6.21s/it]\n"
          ]
        },
        {
          "output_type": "stream",
          "name": "stdout",
          "text": [
            "▶ Processing 3UqkgRGPqsk_098.mp4...\n"
          ]
        },
        {
          "output_type": "stream",
          "name": "stderr",
          "text": [
            "3UqkgRGPqsk_098.mp4 진행중: 100%|██████████| 5/5 [00:29<00:00,  5.82s/it]\n"
          ]
        },
        {
          "output_type": "stream",
          "name": "stdout",
          "text": [
            "▶ Processing A6Dkt7zyImk_045.mp4...\n"
          ]
        },
        {
          "output_type": "stream",
          "name": "stderr",
          "text": [
            "A6Dkt7zyImk_045.mp4 진행중: 100%|██████████| 7/7 [00:42<00:00,  6.10s/it]\n"
          ]
        },
        {
          "output_type": "stream",
          "name": "stdout",
          "text": [
            "▶ Processing TS6lFDVR-3g_037.mp4...\n"
          ]
        },
        {
          "output_type": "stream",
          "name": "stderr",
          "text": [
            "TS6lFDVR-3g_037.mp4 진행중:   0%|          | 0/5 [00:00<?, ?it/s]"
          ]
        },
        {
          "output_type": "stream",
          "name": "stdout",
          "text": [
            "TS6lFDVR-3g_037.mp4 프레임 0 읽기 실패. 넘어감.\n"
          ]
        },
        {
          "output_type": "stream",
          "name": "stderr",
          "text": [
            "\n"
          ]
        },
        {
          "output_type": "stream",
          "name": "stdout",
          "text": [
            "▶ Processing TS6lFDVR-3g_024.mp4...\n"
          ]
        },
        {
          "output_type": "stream",
          "name": "stderr",
          "text": [
            "TS6lFDVR-3g_024.mp4 진행중:   0%|          | 0/6 [00:00<?, ?it/s]"
          ]
        },
        {
          "output_type": "stream",
          "name": "stdout",
          "text": [
            "TS6lFDVR-3g_024.mp4 프레임 0 읽기 실패. 넘어감.\n"
          ]
        },
        {
          "output_type": "stream",
          "name": "stderr",
          "text": [
            "\n"
          ]
        },
        {
          "output_type": "stream",
          "name": "stdout",
          "text": [
            "▶ Processing 3UqkgRGPqsk_178.mp4...\n"
          ]
        },
        {
          "output_type": "stream",
          "name": "stderr",
          "text": [
            "3UqkgRGPqsk_178.mp4 진행중: 100%|██████████| 6/6 [00:37<00:00,  6.20s/it]\n"
          ]
        },
        {
          "output_type": "stream",
          "name": "stdout",
          "text": [
            "▶ Processing Czg_9C7gw0o_133.mp4...\n"
          ]
        },
        {
          "output_type": "stream",
          "name": "stderr",
          "text": [
            "Czg_9C7gw0o_133.mp4 진행중: 100%|██████████| 7/7 [00:43<00:00,  6.26s/it]\n"
          ]
        },
        {
          "output_type": "stream",
          "name": "stdout",
          "text": [
            "▶ Processing A6Dkt7zyImk_094.mp4...\n"
          ]
        },
        {
          "output_type": "stream",
          "name": "stderr",
          "text": [
            "A6Dkt7zyImk_094.mp4 진행중: 100%|██████████| 4/4 [00:24<00:00,  6.17s/it]\n"
          ]
        },
        {
          "output_type": "stream",
          "name": "stdout",
          "text": [
            "▶ Processing KM4Xe6Dlp0Y_078.mp4...\n"
          ]
        },
        {
          "output_type": "stream",
          "name": "stderr",
          "text": [
            "KM4Xe6Dlp0Y_078.mp4 진행중:   0%|          | 0/7 [00:00<?, ?it/s]\n"
          ]
        },
        {
          "output_type": "stream",
          "name": "stdout",
          "text": [
            "KM4Xe6Dlp0Y_078.mp4 프레임 0 읽기 실패. 넘어감.\n",
            "▶ Processing TS6lFDVR-3g_071.mp4...\n"
          ]
        },
        {
          "output_type": "stream",
          "name": "stderr",
          "text": [
            "TS6lFDVR-3g_071.mp4 진행중:   0%|          | 0/3 [00:00<?, ?it/s]"
          ]
        },
        {
          "output_type": "stream",
          "name": "stdout",
          "text": [
            "TS6lFDVR-3g_071.mp4 프레임 0 읽기 실패. 넘어감.\n"
          ]
        },
        {
          "output_type": "stream",
          "name": "stderr",
          "text": [
            "\n"
          ]
        },
        {
          "output_type": "stream",
          "name": "stdout",
          "text": [
            "▶ Processing TS6lFDVR-3g_056.mp4...\n"
          ]
        },
        {
          "output_type": "stream",
          "name": "stderr",
          "text": [
            "TS6lFDVR-3g_056.mp4 진행중:   0%|          | 0/5 [00:00<?, ?it/s]"
          ]
        },
        {
          "output_type": "stream",
          "name": "stdout",
          "text": [
            "TS6lFDVR-3g_056.mp4 프레임 0 읽기 실패. 넘어감.\n"
          ]
        },
        {
          "output_type": "stream",
          "name": "stderr",
          "text": [
            "\n"
          ]
        },
        {
          "output_type": "stream",
          "name": "stdout",
          "text": [
            "▶ Processing TS6lFDVR-3g_029.mp4...\n"
          ]
        },
        {
          "output_type": "stream",
          "name": "stderr",
          "text": [
            "TS6lFDVR-3g_029.mp4 진행중:   0%|          | 0/7 [00:00<?, ?it/s]"
          ]
        },
        {
          "output_type": "stream",
          "name": "stdout",
          "text": [
            "TS6lFDVR-3g_029.mp4 프레임 0 읽기 실패. 넘어감.\n"
          ]
        },
        {
          "output_type": "stream",
          "name": "stderr",
          "text": [
            "\n"
          ]
        },
        {
          "output_type": "stream",
          "name": "stdout",
          "text": [
            "▶ Processing A6Dkt7zyImk_076.mp4...\n"
          ]
        },
        {
          "output_type": "stream",
          "name": "stderr",
          "text": [
            "A6Dkt7zyImk_076.mp4 진행중: 100%|██████████| 5/5 [00:29<00:00,  5.83s/it]\n"
          ]
        },
        {
          "output_type": "stream",
          "name": "stdout",
          "text": [
            "▶ Processing KM4Xe6Dlp0Y_059.mp4...\n"
          ]
        },
        {
          "output_type": "stream",
          "name": "stderr",
          "text": [
            "KM4Xe6Dlp0Y_059.mp4 진행중:   0%|          | 0/6 [00:00<?, ?it/s]\n"
          ]
        },
        {
          "output_type": "stream",
          "name": "stdout",
          "text": [
            "KM4Xe6Dlp0Y_059.mp4 프레임 0 읽기 실패. 넘어감.\n",
            "▶ Processing Czg_9C7gw0o_038.mp4...\n"
          ]
        },
        {
          "output_type": "stream",
          "name": "stderr",
          "text": [
            "Czg_9C7gw0o_038.mp4 진행중: 100%|██████████| 7/7 [00:44<00:00,  6.31s/it]\n"
          ]
        },
        {
          "output_type": "stream",
          "name": "stdout",
          "text": [
            "▶ Processing Czg_9C7gw0o_090.mp4...\n"
          ]
        },
        {
          "output_type": "stream",
          "name": "stderr",
          "text": [
            "Czg_9C7gw0o_090.mp4 진행중: 100%|██████████| 5/5 [00:30<00:00,  6.04s/it]\n"
          ]
        },
        {
          "output_type": "stream",
          "name": "stdout",
          "text": [
            "▶ Processing KM4Xe6Dlp0Y_014.mp4...\n"
          ]
        },
        {
          "output_type": "stream",
          "name": "stderr",
          "text": [
            "KM4Xe6Dlp0Y_014.mp4 진행중:   0%|          | 0/11 [00:00<?, ?it/s]"
          ]
        },
        {
          "output_type": "stream",
          "name": "stdout",
          "text": [
            "KM4Xe6Dlp0Y_014.mp4 프레임 0 읽기 실패. 넘어감.\n"
          ]
        },
        {
          "output_type": "stream",
          "name": "stderr",
          "text": [
            "\n"
          ]
        },
        {
          "output_type": "stream",
          "name": "stdout",
          "text": [
            "▶ Processing 3E7hkPZ-HTk_157.mp4...\n"
          ]
        },
        {
          "output_type": "stream",
          "name": "stderr",
          "text": [
            "3E7hkPZ-HTk_157.mp4 진행중: 100%|██████████| 4/4 [00:25<00:00,  6.47s/it]\n"
          ]
        },
        {
          "output_type": "stream",
          "name": "stdout",
          "text": [
            "▶ Processing 3UqkgRGPqsk_077.mp4...\n"
          ]
        },
        {
          "output_type": "stream",
          "name": "stderr",
          "text": [
            "3UqkgRGPqsk_077.mp4 진행중: 100%|██████████| 4/4 [00:26<00:00,  6.73s/it]\n"
          ]
        },
        {
          "output_type": "stream",
          "name": "stdout",
          "text": [
            "▶ Processing 3E7hkPZ-HTk_069.mp4...\n"
          ]
        },
        {
          "output_type": "stream",
          "name": "stderr",
          "text": [
            "3E7hkPZ-HTk_069.mp4 진행중: 100%|██████████| 4/4 [00:27<00:00,  6.93s/it]\n"
          ]
        },
        {
          "output_type": "stream",
          "name": "stdout",
          "text": [
            "▶ Processing 3UqkgRGPqsk_061.mp4...\n"
          ]
        },
        {
          "output_type": "stream",
          "name": "stderr",
          "text": [
            "3UqkgRGPqsk_061.mp4 진행중: 100%|██████████| 7/7 [00:50<00:00,  7.19s/it]\n"
          ]
        },
        {
          "output_type": "stream",
          "name": "stdout",
          "text": [
            "▶ Processing -moW9jvvMr4_029.mp4...\n"
          ]
        },
        {
          "output_type": "stream",
          "name": "stderr",
          "text": [
            "-moW9jvvMr4_029.mp4 진행중:   0%|          | 0/11 [00:00<?, ?it/s]\n"
          ]
        },
        {
          "output_type": "stream",
          "name": "stdout",
          "text": [
            "-moW9jvvMr4_029.mp4 프레임 0 읽기 실패. 넘어감.\n",
            "▶ Processing -moW9jvvMr4_003.mp4...\n"
          ]
        },
        {
          "output_type": "stream",
          "name": "stderr",
          "text": [
            "-moW9jvvMr4_003.mp4 진행중:   0%|          | 0/7 [00:00<?, ?it/s]"
          ]
        },
        {
          "output_type": "stream",
          "name": "stdout",
          "text": [
            "-moW9jvvMr4_003.mp4 프레임 0 읽기 실패. 넘어감.\n"
          ]
        },
        {
          "output_type": "stream",
          "name": "stderr",
          "text": [
            "\n"
          ]
        },
        {
          "output_type": "stream",
          "name": "stdout",
          "text": [
            "▶ Processing -moW9jvvMr4_080.mp4...\n"
          ]
        },
        {
          "output_type": "stream",
          "name": "stderr",
          "text": [
            "-moW9jvvMr4_080.mp4 진행중:   0%|          | 0/3 [00:00<?, ?it/s]\n"
          ]
        },
        {
          "output_type": "stream",
          "name": "stdout",
          "text": [
            "-moW9jvvMr4_080.mp4 프레임 0 읽기 실패. 넘어감.\n",
            "▶ Processing TS6lFDVR-3g_047.mp4...\n"
          ]
        },
        {
          "output_type": "stream",
          "name": "stderr",
          "text": [
            "TS6lFDVR-3g_047.mp4 진행중:   0%|          | 0/5 [00:00<?, ?it/s]"
          ]
        },
        {
          "output_type": "stream",
          "name": "stdout",
          "text": [
            "TS6lFDVR-3g_047.mp4 프레임 0 읽기 실패. 넘어감.\n"
          ]
        },
        {
          "output_type": "stream",
          "name": "stderr",
          "text": [
            "\n"
          ]
        },
        {
          "output_type": "stream",
          "name": "stdout",
          "text": [
            "▶ Processing TS6lFDVR-3g_048.mp4...\n"
          ]
        },
        {
          "output_type": "stream",
          "name": "stderr",
          "text": [
            "TS6lFDVR-3g_048.mp4 진행중:   0%|          | 0/5 [00:00<?, ?it/s]\n"
          ]
        },
        {
          "output_type": "stream",
          "name": "stdout",
          "text": [
            "TS6lFDVR-3g_048.mp4 프레임 0 읽기 실패. 넘어감.\n",
            "▶ Processing TS6lFDVR-3g_049.mp4...\n"
          ]
        },
        {
          "output_type": "stream",
          "name": "stderr",
          "text": [
            "TS6lFDVR-3g_049.mp4 진행중:   0%|          | 0/5 [00:00<?, ?it/s]"
          ]
        },
        {
          "output_type": "stream",
          "name": "stdout",
          "text": [
            "TS6lFDVR-3g_049.mp4 프레임 0 읽기 실패. 넘어감.\n"
          ]
        },
        {
          "output_type": "stream",
          "name": "stderr",
          "text": [
            "\n"
          ]
        },
        {
          "output_type": "stream",
          "name": "stdout",
          "text": [
            "▶ Processing TS6lFDVR-3g_050.mp4...\n"
          ]
        },
        {
          "output_type": "stream",
          "name": "stderr",
          "text": [
            "TS6lFDVR-3g_050.mp4 진행중:   0%|          | 0/7 [00:00<?, ?it/s]\n"
          ]
        },
        {
          "output_type": "stream",
          "name": "stdout",
          "text": [
            "TS6lFDVR-3g_050.mp4 프레임 0 읽기 실패. 넘어감.\n",
            "▶ Processing TS6lFDVR-3g_051.mp4...\n"
          ]
        },
        {
          "output_type": "stream",
          "name": "stderr",
          "text": [
            "TS6lFDVR-3g_051.mp4 진행중:   0%|          | 0/3 [00:00<?, ?it/s]"
          ]
        },
        {
          "output_type": "stream",
          "name": "stdout",
          "text": [
            "TS6lFDVR-3g_051.mp4 프레임 0 읽기 실패. 넘어감.\n"
          ]
        },
        {
          "output_type": "stream",
          "name": "stderr",
          "text": [
            "\n"
          ]
        },
        {
          "output_type": "stream",
          "name": "stdout",
          "text": [
            "▶ Processing TS6lFDVR-3g_052.mp4...\n"
          ]
        },
        {
          "output_type": "stream",
          "name": "stderr",
          "text": [
            "TS6lFDVR-3g_052.mp4 진행중:   0%|          | 0/3 [00:00<?, ?it/s]"
          ]
        },
        {
          "output_type": "stream",
          "name": "stdout",
          "text": [
            "TS6lFDVR-3g_052.mp4 프레임 0 읽기 실패. 넘어감.\n"
          ]
        },
        {
          "output_type": "stream",
          "name": "stderr",
          "text": [
            "\n"
          ]
        },
        {
          "output_type": "stream",
          "name": "stdout",
          "text": [
            "▶ Processing TS6lFDVR-3g_053.mp4...\n"
          ]
        },
        {
          "output_type": "stream",
          "name": "stderr",
          "text": [
            "TS6lFDVR-3g_053.mp4 진행중:   0%|          | 0/3 [00:00<?, ?it/s]\n"
          ]
        },
        {
          "output_type": "stream",
          "name": "stdout",
          "text": [
            "TS6lFDVR-3g_053.mp4 프레임 0 읽기 실패. 넘어감.\n",
            "▶ Processing TS6lFDVR-3g_054.mp4...\n"
          ]
        },
        {
          "output_type": "stream",
          "name": "stderr",
          "text": [
            "TS6lFDVR-3g_054.mp4 진행중:   0%|          | 0/7 [00:00<?, ?it/s]\n"
          ]
        },
        {
          "output_type": "stream",
          "name": "stdout",
          "text": [
            "TS6lFDVR-3g_054.mp4 프레임 0 읽기 실패. 넘어감.\n",
            "▶ Processing TS6lFDVR-3g_055.mp4...\n"
          ]
        },
        {
          "output_type": "stream",
          "name": "stderr",
          "text": [
            "TS6lFDVR-3g_055.mp4 진행중:   0%|          | 0/3 [00:00<?, ?it/s]"
          ]
        },
        {
          "output_type": "stream",
          "name": "stdout",
          "text": [
            "TS6lFDVR-3g_055.mp4 프레임 0 읽기 실패. 넘어감.\n"
          ]
        },
        {
          "output_type": "stream",
          "name": "stderr",
          "text": [
            "\n"
          ]
        },
        {
          "output_type": "stream",
          "name": "stdout",
          "text": [
            "▶ Processing TS6lFDVR-3g_057.mp4...\n"
          ]
        },
        {
          "output_type": "stream",
          "name": "stderr",
          "text": [
            "TS6lFDVR-3g_057.mp4 진행중:   0%|          | 0/5 [00:00<?, ?it/s]\n"
          ]
        },
        {
          "output_type": "stream",
          "name": "stdout",
          "text": [
            "TS6lFDVR-3g_057.mp4 프레임 0 읽기 실패. 넘어감.\n",
            "▶ Processing TS6lFDVR-3g_058.mp4...\n"
          ]
        },
        {
          "output_type": "stream",
          "name": "stderr",
          "text": [
            "TS6lFDVR-3g_058.mp4 진행중:   0%|          | 0/5 [00:00<?, ?it/s]"
          ]
        },
        {
          "output_type": "stream",
          "name": "stdout",
          "text": [
            "TS6lFDVR-3g_058.mp4 프레임 0 읽기 실패. 넘어감.\n"
          ]
        },
        {
          "output_type": "stream",
          "name": "stderr",
          "text": [
            "\n"
          ]
        },
        {
          "output_type": "stream",
          "name": "stdout",
          "text": [
            "▶ Processing TS6lFDVR-3g_059.mp4...\n"
          ]
        },
        {
          "output_type": "stream",
          "name": "stderr",
          "text": [
            "TS6lFDVR-3g_059.mp4 진행중:   0%|          | 0/5 [00:00<?, ?it/s]\n"
          ]
        },
        {
          "output_type": "stream",
          "name": "stdout",
          "text": [
            "TS6lFDVR-3g_059.mp4 프레임 0 읽기 실패. 넘어감.\n",
            "▶ Processing TS6lFDVR-3g_061.mp4...\n"
          ]
        },
        {
          "output_type": "stream",
          "name": "stderr",
          "text": [
            "TS6lFDVR-3g_061.mp4 진행중:   0%|          | 0/5 [00:00<?, ?it/s]"
          ]
        },
        {
          "output_type": "stream",
          "name": "stdout",
          "text": [
            "TS6lFDVR-3g_061.mp4 프레임 0 읽기 실패. 넘어감.\n"
          ]
        },
        {
          "output_type": "stream",
          "name": "stderr",
          "text": [
            "\n"
          ]
        },
        {
          "output_type": "stream",
          "name": "stdout",
          "text": [
            "▶ Processing TS6lFDVR-3g_062.mp4...\n"
          ]
        },
        {
          "output_type": "stream",
          "name": "stderr",
          "text": [
            "TS6lFDVR-3g_062.mp4 진행중:   0%|          | 0/6 [00:00<?, ?it/s]\n"
          ]
        },
        {
          "output_type": "stream",
          "name": "stdout",
          "text": [
            "TS6lFDVR-3g_062.mp4 프레임 0 읽기 실패. 넘어감.\n",
            "▶ Processing TS6lFDVR-3g_063.mp4...\n"
          ]
        },
        {
          "output_type": "stream",
          "name": "stderr",
          "text": [
            "TS6lFDVR-3g_063.mp4 진행중:   0%|          | 0/5 [00:00<?, ?it/s]\n"
          ]
        },
        {
          "output_type": "stream",
          "name": "stdout",
          "text": [
            "TS6lFDVR-3g_063.mp4 프레임 0 읽기 실패. 넘어감.\n",
            "▶ Processing TS6lFDVR-3g_064.mp4...\n"
          ]
        },
        {
          "output_type": "stream",
          "name": "stderr",
          "text": [
            "TS6lFDVR-3g_064.mp4 진행중:   0%|          | 0/5 [00:00<?, ?it/s]"
          ]
        },
        {
          "output_type": "stream",
          "name": "stdout",
          "text": [
            "TS6lFDVR-3g_064.mp4 프레임 0 읽기 실패. 넘어감.\n"
          ]
        },
        {
          "output_type": "stream",
          "name": "stderr",
          "text": [
            "\n"
          ]
        },
        {
          "output_type": "stream",
          "name": "stdout",
          "text": [
            "▶ Processing TS6lFDVR-3g_065.mp4...\n"
          ]
        },
        {
          "output_type": "stream",
          "name": "stderr",
          "text": [
            "TS6lFDVR-3g_065.mp4 진행중:   0%|          | 0/5 [00:00<?, ?it/s]\n"
          ]
        },
        {
          "output_type": "stream",
          "name": "stdout",
          "text": [
            "TS6lFDVR-3g_065.mp4 프레임 0 읽기 실패. 넘어감.\n",
            "▶ Processing TS6lFDVR-3g_066.mp4...\n"
          ]
        },
        {
          "output_type": "stream",
          "name": "stderr",
          "text": [
            "TS6lFDVR-3g_066.mp4 진행중:   0%|          | 0/6 [00:00<?, ?it/s]"
          ]
        },
        {
          "output_type": "stream",
          "name": "stdout",
          "text": [
            "TS6lFDVR-3g_066.mp4 프레임 0 읽기 실패. 넘어감.\n"
          ]
        },
        {
          "output_type": "stream",
          "name": "stderr",
          "text": [
            "\n"
          ]
        },
        {
          "output_type": "stream",
          "name": "stdout",
          "text": [
            "▶ Processing TS6lFDVR-3g_067.mp4...\n"
          ]
        },
        {
          "output_type": "stream",
          "name": "stderr",
          "text": [
            "TS6lFDVR-3g_067.mp4 진행중:   0%|          | 0/9 [00:00<?, ?it/s]"
          ]
        },
        {
          "output_type": "stream",
          "name": "stdout",
          "text": [
            "TS6lFDVR-3g_067.mp4 프레임 0 읽기 실패. 넘어감.\n"
          ]
        },
        {
          "output_type": "stream",
          "name": "stderr",
          "text": [
            "\n"
          ]
        },
        {
          "output_type": "stream",
          "name": "stdout",
          "text": [
            "▶ Processing TS6lFDVR-3g_068.mp4...\n"
          ]
        },
        {
          "output_type": "stream",
          "name": "stderr",
          "text": [
            "TS6lFDVR-3g_068.mp4 진행중:   0%|          | 0/5 [00:00<?, ?it/s]\n"
          ]
        },
        {
          "output_type": "stream",
          "name": "stdout",
          "text": [
            "TS6lFDVR-3g_068.mp4 프레임 0 읽기 실패. 넘어감.\n",
            "▶ Processing TS6lFDVR-3g_070.mp4...\n"
          ]
        },
        {
          "output_type": "stream",
          "name": "stderr",
          "text": [
            "TS6lFDVR-3g_070.mp4 진행중:   0%|          | 0/7 [00:00<?, ?it/s]"
          ]
        },
        {
          "output_type": "stream",
          "name": "stdout",
          "text": [
            "TS6lFDVR-3g_070.mp4 프레임 0 읽기 실패. 넘어감.\n"
          ]
        },
        {
          "output_type": "stream",
          "name": "stderr",
          "text": [
            "\n"
          ]
        },
        {
          "output_type": "stream",
          "name": "stdout",
          "text": [
            "▶ Processing TS6lFDVR-3g_072.mp4...\n"
          ]
        },
        {
          "output_type": "stream",
          "name": "stderr",
          "text": [
            "TS6lFDVR-3g_072.mp4 진행중:   0%|          | 0/5 [00:00<?, ?it/s]"
          ]
        },
        {
          "output_type": "stream",
          "name": "stdout",
          "text": [
            "TS6lFDVR-3g_072.mp4 프레임 0 읽기 실패. 넘어감.\n"
          ]
        },
        {
          "output_type": "stream",
          "name": "stderr",
          "text": [
            "\n"
          ]
        },
        {
          "output_type": "stream",
          "name": "stdout",
          "text": [
            "▶ Processing TS6lFDVR-3g_073.mp4...\n"
          ]
        },
        {
          "output_type": "stream",
          "name": "stderr",
          "text": [
            "TS6lFDVR-3g_073.mp4 진행중:   0%|          | 0/6 [00:00<?, ?it/s]"
          ]
        },
        {
          "output_type": "stream",
          "name": "stdout",
          "text": [
            "TS6lFDVR-3g_073.mp4 프레임 0 읽기 실패. 넘어감.\n"
          ]
        },
        {
          "output_type": "stream",
          "name": "stderr",
          "text": [
            "\n"
          ]
        },
        {
          "output_type": "stream",
          "name": "stdout",
          "text": [
            "▶ Processing TS6lFDVR-3g_074.mp4...\n"
          ]
        },
        {
          "output_type": "stream",
          "name": "stderr",
          "text": [
            "TS6lFDVR-3g_074.mp4 진행중:   0%|          | 0/3 [00:00<?, ?it/s]"
          ]
        },
        {
          "output_type": "stream",
          "name": "stdout",
          "text": [
            "TS6lFDVR-3g_074.mp4 프레임 0 읽기 실패. 넘어감.\n"
          ]
        },
        {
          "output_type": "stream",
          "name": "stderr",
          "text": [
            "\n"
          ]
        },
        {
          "output_type": "stream",
          "name": "stdout",
          "text": [
            "▶ Processing TS6lFDVR-3g_075.mp4...\n"
          ]
        },
        {
          "output_type": "stream",
          "name": "stderr",
          "text": [
            "TS6lFDVR-3g_075.mp4 진행중:   0%|          | 0/5 [00:00<?, ?it/s]"
          ]
        },
        {
          "output_type": "stream",
          "name": "stdout",
          "text": [
            "TS6lFDVR-3g_075.mp4 프레임 0 읽기 실패. 넘어감.\n"
          ]
        },
        {
          "output_type": "stream",
          "name": "stderr",
          "text": [
            "\n"
          ]
        },
        {
          "output_type": "stream",
          "name": "stdout",
          "text": [
            "▶ Processing TS6lFDVR-3g_076.mp4...\n"
          ]
        },
        {
          "output_type": "stream",
          "name": "stderr",
          "text": [
            "TS6lFDVR-3g_076.mp4 진행중:   0%|          | 0/7 [00:00<?, ?it/s]\n"
          ]
        },
        {
          "output_type": "stream",
          "name": "stdout",
          "text": [
            "TS6lFDVR-3g_076.mp4 프레임 0 읽기 실패. 넘어감.\n",
            "▶ Processing TS6lFDVR-3g_077.mp4...\n"
          ]
        },
        {
          "output_type": "stream",
          "name": "stderr",
          "text": [
            "TS6lFDVR-3g_077.mp4 진행중:   0%|          | 0/3 [00:00<?, ?it/s]"
          ]
        },
        {
          "output_type": "stream",
          "name": "stdout",
          "text": [
            "TS6lFDVR-3g_077.mp4 프레임 0 읽기 실패. 넘어감.\n"
          ]
        },
        {
          "output_type": "stream",
          "name": "stderr",
          "text": [
            "\n"
          ]
        },
        {
          "output_type": "stream",
          "name": "stdout",
          "text": [
            "▶ Processing TS6lFDVR-3g_078.mp4...\n"
          ]
        },
        {
          "output_type": "stream",
          "name": "stderr",
          "text": [
            "TS6lFDVR-3g_078.mp4 진행중:   0%|          | 0/5 [00:00<?, ?it/s]"
          ]
        },
        {
          "output_type": "stream",
          "name": "stdout",
          "text": [
            "TS6lFDVR-3g_078.mp4 프레임 0 읽기 실패. 넘어감.\n"
          ]
        },
        {
          "output_type": "stream",
          "name": "stderr",
          "text": [
            "\n"
          ]
        },
        {
          "output_type": "stream",
          "name": "stdout",
          "text": [
            "▶ Processing TS6lFDVR-3g_079.mp4...\n"
          ]
        },
        {
          "output_type": "stream",
          "name": "stderr",
          "text": [
            "TS6lFDVR-3g_079.mp4 진행중:   0%|          | 0/5 [00:00<?, ?it/s]"
          ]
        },
        {
          "output_type": "stream",
          "name": "stdout",
          "text": [
            "TS6lFDVR-3g_079.mp4 프레임 0 읽기 실패. 넘어감.\n"
          ]
        },
        {
          "output_type": "stream",
          "name": "stderr",
          "text": [
            "\n"
          ]
        },
        {
          "output_type": "stream",
          "name": "stdout",
          "text": [
            "▶ Processing TS6lFDVR-3g_081.mp4...\n"
          ]
        },
        {
          "output_type": "stream",
          "name": "stderr",
          "text": [
            "TS6lFDVR-3g_081.mp4 진행중:   0%|          | 0/7 [00:00<?, ?it/s]"
          ]
        },
        {
          "output_type": "stream",
          "name": "stdout",
          "text": [
            "TS6lFDVR-3g_081.mp4 프레임 0 읽기 실패. 넘어감.\n"
          ]
        },
        {
          "output_type": "stream",
          "name": "stderr",
          "text": [
            "\n"
          ]
        },
        {
          "output_type": "stream",
          "name": "stdout",
          "text": [
            "▶ Processing TS6lFDVR-3g_082.mp4...\n"
          ]
        },
        {
          "output_type": "stream",
          "name": "stderr",
          "text": [
            "TS6lFDVR-3g_082.mp4 진행중:   0%|          | 0/5 [00:00<?, ?it/s]"
          ]
        },
        {
          "output_type": "stream",
          "name": "stdout",
          "text": [
            "TS6lFDVR-3g_082.mp4 프레임 0 읽기 실패. 넘어감.\n"
          ]
        },
        {
          "output_type": "stream",
          "name": "stderr",
          "text": [
            "\n"
          ]
        },
        {
          "output_type": "stream",
          "name": "stdout",
          "text": [
            "▶ Processing TS6lFDVR-3g_083.mp4...\n"
          ]
        },
        {
          "output_type": "stream",
          "name": "stderr",
          "text": [
            "TS6lFDVR-3g_083.mp4 진행중:   0%|          | 0/5 [00:00<?, ?it/s]\n"
          ]
        },
        {
          "output_type": "stream",
          "name": "stdout",
          "text": [
            "TS6lFDVR-3g_083.mp4 프레임 0 읽기 실패. 넘어감.\n",
            "▶ Processing TS6lFDVR-3g_084.mp4...\n"
          ]
        },
        {
          "output_type": "stream",
          "name": "stderr",
          "text": [
            "TS6lFDVR-3g_084.mp4 진행중:   0%|          | 0/7 [00:00<?, ?it/s]"
          ]
        },
        {
          "output_type": "stream",
          "name": "stdout",
          "text": [
            "TS6lFDVR-3g_084.mp4 프레임 0 읽기 실패. 넘어감.\n"
          ]
        },
        {
          "output_type": "stream",
          "name": "stderr",
          "text": [
            "\n"
          ]
        },
        {
          "output_type": "stream",
          "name": "stdout",
          "text": [
            "▶ Processing TS6lFDVR-3g_085.mp4...\n"
          ]
        },
        {
          "output_type": "stream",
          "name": "stderr",
          "text": [
            "TS6lFDVR-3g_085.mp4 진행중:   0%|          | 0/3 [00:00<?, ?it/s]"
          ]
        },
        {
          "output_type": "stream",
          "name": "stdout",
          "text": [
            "TS6lFDVR-3g_085.mp4 프레임 0 읽기 실패. 넘어감.\n"
          ]
        },
        {
          "output_type": "stream",
          "name": "stderr",
          "text": [
            "\n"
          ]
        },
        {
          "output_type": "stream",
          "name": "stdout",
          "text": [
            "▶ Processing TS6lFDVR-3g_086.mp4...\n"
          ]
        },
        {
          "output_type": "stream",
          "name": "stderr",
          "text": [
            "TS6lFDVR-3g_086.mp4 진행중:   0%|          | 0/5 [00:00<?, ?it/s]\n"
          ]
        },
        {
          "output_type": "stream",
          "name": "stdout",
          "text": [
            "TS6lFDVR-3g_086.mp4 프레임 0 읽기 실패. 넘어감.\n",
            "▶ Processing TS6lFDVR-3g_087.mp4...\n"
          ]
        },
        {
          "output_type": "stream",
          "name": "stderr",
          "text": [
            "\rTS6lFDVR-3g_087.mp4 진행중:   0%|          | 0/7 [00:00<?, ?it/s]"
          ]
        },
        {
          "output_type": "stream",
          "name": "stdout",
          "text": [
            "TS6lFDVR-3g_087.mp4 프레임 0 읽기 실패. 넘어감."
          ]
        },
        {
          "output_type": "stream",
          "name": "stderr",
          "text": [
            "\rTS6lFDVR-3g_087.mp4 진행중:   0%|          | 0/7 [00:00<?, ?it/s]\n"
          ]
        },
        {
          "output_type": "stream",
          "name": "stdout",
          "text": [
            "\n",
            "▶ Processing TS6lFDVR-3g_088.mp4...\n"
          ]
        },
        {
          "output_type": "stream",
          "name": "stderr",
          "text": [
            "TS6lFDVR-3g_088.mp4 진행중:   0%|          | 0/7 [00:00<?, ?it/s]"
          ]
        },
        {
          "output_type": "stream",
          "name": "stdout",
          "text": [
            "TS6lFDVR-3g_088.mp4 프레임 0 읽기 실패. 넘어감.\n"
          ]
        },
        {
          "output_type": "stream",
          "name": "stderr",
          "text": [
            "\n"
          ]
        },
        {
          "output_type": "stream",
          "name": "stdout",
          "text": [
            "▶ Processing TS6lFDVR-3g_089.mp4...\n"
          ]
        },
        {
          "output_type": "stream",
          "name": "stderr",
          "text": [
            "TS6lFDVR-3g_089.mp4 진행중:   0%|          | 0/4 [00:00<?, ?it/s]\n"
          ]
        },
        {
          "output_type": "stream",
          "name": "stdout",
          "text": [
            "TS6lFDVR-3g_089.mp4 프레임 0 읽기 실패. 넘어감.\n",
            "▶ Processing TS6lFDVR-3g_090.mp4...\n"
          ]
        },
        {
          "output_type": "stream",
          "name": "stderr",
          "text": [
            "TS6lFDVR-3g_090.mp4 진행중:   0%|          | 0/5 [00:00<?, ?it/s]\n"
          ]
        },
        {
          "output_type": "stream",
          "name": "stdout",
          "text": [
            "TS6lFDVR-3g_090.mp4 프레임 0 읽기 실패. 넘어감.\n",
            "▶ Processing TS6lFDVR-3g_091.mp4...\n"
          ]
        },
        {
          "output_type": "stream",
          "name": "stderr",
          "text": [
            "TS6lFDVR-3g_091.mp4 진행중:   0%|          | 0/5 [00:00<?, ?it/s]"
          ]
        },
        {
          "output_type": "stream",
          "name": "stdout",
          "text": [
            "TS6lFDVR-3g_091.mp4 프레임 0 읽기 실패. 넘어감.\n"
          ]
        },
        {
          "output_type": "stream",
          "name": "stderr",
          "text": [
            "\n"
          ]
        },
        {
          "output_type": "stream",
          "name": "stdout",
          "text": [
            "▶ Processing TS6lFDVR-3g_092.mp4...\n"
          ]
        },
        {
          "output_type": "stream",
          "name": "stderr",
          "text": [
            "TS6lFDVR-3g_092.mp4 진행중:   0%|          | 0/5 [00:00<?, ?it/s]\n"
          ]
        },
        {
          "output_type": "stream",
          "name": "stdout",
          "text": [
            "TS6lFDVR-3g_092.mp4 프레임 0 읽기 실패. 넘어감.\n",
            "▶ Processing TS6lFDVR-3g_093.mp4...\n"
          ]
        },
        {
          "output_type": "stream",
          "name": "stderr",
          "text": [
            "TS6lFDVR-3g_093.mp4 진행중:   0%|          | 0/7 [00:00<?, ?it/s]"
          ]
        },
        {
          "output_type": "stream",
          "name": "stdout",
          "text": [
            "TS6lFDVR-3g_093.mp4 프레임 0 읽기 실패. 넘어감.\n"
          ]
        },
        {
          "output_type": "stream",
          "name": "stderr",
          "text": [
            "\n"
          ]
        },
        {
          "output_type": "stream",
          "name": "stdout",
          "text": [
            "▶ Processing TS6lFDVR-3g_094.mp4...\n"
          ]
        },
        {
          "output_type": "stream",
          "name": "stderr",
          "text": [
            "TS6lFDVR-3g_094.mp4 진행중:   0%|          | 0/3 [00:00<?, ?it/s]"
          ]
        },
        {
          "output_type": "stream",
          "name": "stdout",
          "text": [
            "TS6lFDVR-3g_094.mp4 프레임 0 읽기 실패. 넘어감.\n"
          ]
        },
        {
          "output_type": "stream",
          "name": "stderr",
          "text": [
            "\n"
          ]
        },
        {
          "output_type": "stream",
          "name": "stdout",
          "text": [
            "▶ Processing TS6lFDVR-3g_095.mp4...\n"
          ]
        },
        {
          "output_type": "stream",
          "name": "stderr",
          "text": [
            "TS6lFDVR-3g_095.mp4 진행중:   0%|          | 0/7 [00:00<?, ?it/s]"
          ]
        },
        {
          "output_type": "stream",
          "name": "stdout",
          "text": [
            "TS6lFDVR-3g_095.mp4 프레임 0 읽기 실패. 넘어감.\n"
          ]
        },
        {
          "output_type": "stream",
          "name": "stderr",
          "text": [
            "\n"
          ]
        },
        {
          "output_type": "stream",
          "name": "stdout",
          "text": [
            "▶ Processing TS6lFDVR-3g_096.mp4...\n"
          ]
        },
        {
          "output_type": "stream",
          "name": "stderr",
          "text": [
            "TS6lFDVR-3g_096.mp4 진행중:   0%|          | 0/3 [00:00<?, ?it/s]"
          ]
        },
        {
          "output_type": "stream",
          "name": "stdout",
          "text": [
            "TS6lFDVR-3g_096.mp4 프레임 0 읽기 실패. 넘어감.\n"
          ]
        },
        {
          "output_type": "stream",
          "name": "stderr",
          "text": [
            "\n"
          ]
        },
        {
          "output_type": "stream",
          "name": "stdout",
          "text": [
            "▶ Processing TS6lFDVR-3g_097.mp4...\n"
          ]
        },
        {
          "output_type": "stream",
          "name": "stderr",
          "text": [
            "TS6lFDVR-3g_097.mp4 진행중:   0%|          | 0/5 [00:00<?, ?it/s]"
          ]
        },
        {
          "output_type": "stream",
          "name": "stdout",
          "text": [
            "TS6lFDVR-3g_097.mp4 프레임 0 읽기 실패. 넘어감.\n"
          ]
        },
        {
          "output_type": "stream",
          "name": "stderr",
          "text": [
            "\n"
          ]
        },
        {
          "output_type": "stream",
          "name": "stdout",
          "text": [
            "▶ Processing TS6lFDVR-3g_098.mp4...\n"
          ]
        },
        {
          "output_type": "stream",
          "name": "stderr",
          "text": [
            "TS6lFDVR-3g_098.mp4 진행중:   0%|          | 0/5 [00:00<?, ?it/s]\n"
          ]
        },
        {
          "output_type": "stream",
          "name": "stdout",
          "text": [
            "TS6lFDVR-3g_098.mp4 프레임 0 읽기 실패. 넘어감.\n",
            "▶ Processing TS6lFDVR-3g_099.mp4...\n"
          ]
        },
        {
          "output_type": "stream",
          "name": "stderr",
          "text": [
            "TS6lFDVR-3g_099.mp4 진행중:   0%|          | 0/5 [00:00<?, ?it/s]"
          ]
        },
        {
          "output_type": "stream",
          "name": "stdout",
          "text": [
            "TS6lFDVR-3g_099.mp4 프레임 0 읽기 실패. 넘어감.\n"
          ]
        },
        {
          "output_type": "stream",
          "name": "stderr",
          "text": [
            "\n"
          ]
        },
        {
          "output_type": "stream",
          "name": "stdout",
          "text": [
            "▶ Processing TS6lFDVR-3g_100.mp4...\n"
          ]
        },
        {
          "output_type": "stream",
          "name": "stderr",
          "text": [
            "TS6lFDVR-3g_100.mp4 진행중:   0%|          | 0/5 [00:00<?, ?it/s]\n"
          ]
        },
        {
          "output_type": "stream",
          "name": "stdout",
          "text": [
            "TS6lFDVR-3g_100.mp4 프레임 0 읽기 실패. 넘어감.\n",
            "▶ Processing TS6lFDVR-3g_101.mp4...\n"
          ]
        },
        {
          "output_type": "stream",
          "name": "stderr",
          "text": [
            "TS6lFDVR-3g_101.mp4 진행중:   0%|          | 0/3 [00:00<?, ?it/s]"
          ]
        },
        {
          "output_type": "stream",
          "name": "stdout",
          "text": [
            "TS6lFDVR-3g_101.mp4 프레임 0 읽기 실패. 넘어감.\n"
          ]
        },
        {
          "output_type": "stream",
          "name": "stderr",
          "text": [
            "\n"
          ]
        },
        {
          "output_type": "stream",
          "name": "stdout",
          "text": [
            "▶ Processing TS6lFDVR-3g_102.mp4...\n"
          ]
        },
        {
          "output_type": "stream",
          "name": "stderr",
          "text": [
            "TS6lFDVR-3g_102.mp4 진행중:   0%|          | 0/3 [00:00<?, ?it/s]\n"
          ]
        },
        {
          "output_type": "stream",
          "name": "stdout",
          "text": [
            "TS6lFDVR-3g_102.mp4 프레임 0 읽기 실패. 넘어감.\n",
            "▶ Processing TS6lFDVR-3g_103.mp4...\n"
          ]
        },
        {
          "output_type": "stream",
          "name": "stderr",
          "text": [
            "TS6lFDVR-3g_103.mp4 진행중:   0%|          | 0/8 [00:00<?, ?it/s]"
          ]
        },
        {
          "output_type": "stream",
          "name": "stdout",
          "text": [
            "TS6lFDVR-3g_103.mp4 프레임 0 읽기 실패. 넘어감.\n"
          ]
        },
        {
          "output_type": "stream",
          "name": "stderr",
          "text": [
            "\n"
          ]
        },
        {
          "output_type": "stream",
          "name": "stdout",
          "text": [
            "▶ Processing TS6lFDVR-3g_104.mp4...\n"
          ]
        },
        {
          "output_type": "stream",
          "name": "stderr",
          "text": [
            "TS6lFDVR-3g_104.mp4 진행중:   0%|          | 0/5 [00:00<?, ?it/s]"
          ]
        },
        {
          "output_type": "stream",
          "name": "stdout",
          "text": [
            "TS6lFDVR-3g_104.mp4 프레임 0 읽기 실패. 넘어감.\n"
          ]
        },
        {
          "output_type": "stream",
          "name": "stderr",
          "text": [
            "\n"
          ]
        },
        {
          "output_type": "stream",
          "name": "stdout",
          "text": [
            "▶ Processing TS6lFDVR-3g_105.mp4...\n"
          ]
        },
        {
          "output_type": "stream",
          "name": "stderr",
          "text": [
            "TS6lFDVR-3g_105.mp4 진행중:   0%|          | 0/3 [00:00<?, ?it/s]"
          ]
        },
        {
          "output_type": "stream",
          "name": "stdout",
          "text": [
            "TS6lFDVR-3g_105.mp4 프레임 0 읽기 실패. 넘어감.\n"
          ]
        },
        {
          "output_type": "stream",
          "name": "stderr",
          "text": [
            "\n"
          ]
        },
        {
          "output_type": "stream",
          "name": "stdout",
          "text": [
            "▶ Processing TS6lFDVR-3g_106.mp4...\n"
          ]
        },
        {
          "output_type": "stream",
          "name": "stderr",
          "text": [
            "TS6lFDVR-3g_106.mp4 진행중:   0%|          | 0/6 [00:00<?, ?it/s]\n"
          ]
        },
        {
          "output_type": "stream",
          "name": "stdout",
          "text": [
            "TS6lFDVR-3g_106.mp4 프레임 0 읽기 실패. 넘어감.\n",
            "▶ Processing TS6lFDVR-3g_107.mp4...\n"
          ]
        },
        {
          "output_type": "stream",
          "name": "stderr",
          "text": [
            "TS6lFDVR-3g_107.mp4 진행중:   0%|          | 0/5 [00:00<?, ?it/s]"
          ]
        },
        {
          "output_type": "stream",
          "name": "stdout",
          "text": [
            "TS6lFDVR-3g_107.mp4 프레임 0 읽기 실패. 넘어감.\n"
          ]
        },
        {
          "output_type": "stream",
          "name": "stderr",
          "text": [
            "\n"
          ]
        },
        {
          "output_type": "stream",
          "name": "stdout",
          "text": [
            "▶ Processing TS6lFDVR-3g_108.mp4...\n"
          ]
        },
        {
          "output_type": "stream",
          "name": "stderr",
          "text": [
            "TS6lFDVR-3g_108.mp4 진행중:   0%|          | 0/7 [00:00<?, ?it/s]"
          ]
        },
        {
          "output_type": "stream",
          "name": "stdout",
          "text": [
            "TS6lFDVR-3g_108.mp4 프레임 0 읽기 실패. 넘어감.\n"
          ]
        },
        {
          "output_type": "stream",
          "name": "stderr",
          "text": [
            "\n"
          ]
        },
        {
          "output_type": "stream",
          "name": "stdout",
          "text": [
            "▶ Processing TS6lFDVR-3g_109.mp4...\n"
          ]
        },
        {
          "output_type": "stream",
          "name": "stderr",
          "text": [
            "TS6lFDVR-3g_109.mp4 진행중:   0%|          | 0/5 [00:00<?, ?it/s]\n"
          ]
        },
        {
          "output_type": "stream",
          "name": "stdout",
          "text": [
            "TS6lFDVR-3g_109.mp4 프레임 0 읽기 실패. 넘어감.\n",
            "▶ Processing TS6lFDVR-3g_110.mp4...\n"
          ]
        },
        {
          "output_type": "stream",
          "name": "stderr",
          "text": [
            "TS6lFDVR-3g_110.mp4 진행중:   0%|          | 0/3 [00:00<?, ?it/s]"
          ]
        },
        {
          "output_type": "stream",
          "name": "stdout",
          "text": [
            "TS6lFDVR-3g_110.mp4 프레임 0 읽기 실패. 넘어감.\n"
          ]
        },
        {
          "output_type": "stream",
          "name": "stderr",
          "text": [
            "\n"
          ]
        },
        {
          "output_type": "stream",
          "name": "stdout",
          "text": [
            "▶ Processing TS6lFDVR-3g_112.mp4...\n"
          ]
        },
        {
          "output_type": "stream",
          "name": "stderr",
          "text": [
            "TS6lFDVR-3g_112.mp4 진행중:   0%|          | 0/6 [00:00<?, ?it/s]\n"
          ]
        },
        {
          "output_type": "stream",
          "name": "stdout",
          "text": [
            "TS6lFDVR-3g_112.mp4 프레임 0 읽기 실패. 넘어감.\n",
            "▶ Processing TS6lFDVR-3g_113.mp4...\n"
          ]
        },
        {
          "output_type": "stream",
          "name": "stderr",
          "text": [
            "TS6lFDVR-3g_113.mp4 진행중:   0%|          | 0/7 [00:00<?, ?it/s]"
          ]
        },
        {
          "output_type": "stream",
          "name": "stdout",
          "text": [
            "TS6lFDVR-3g_113.mp4 프레임 0 읽기 실패. 넘어감.\n"
          ]
        },
        {
          "output_type": "stream",
          "name": "stderr",
          "text": [
            "\n"
          ]
        },
        {
          "output_type": "stream",
          "name": "stdout",
          "text": [
            "▶ Processing TS6lFDVR-3g_114.mp4...\n"
          ]
        },
        {
          "output_type": "stream",
          "name": "stderr",
          "text": [
            "TS6lFDVR-3g_114.mp4 진행중:   0%|          | 0/6 [00:00<?, ?it/s]\n"
          ]
        },
        {
          "output_type": "stream",
          "name": "stdout",
          "text": [
            "TS6lFDVR-3g_114.mp4 프레임 0 읽기 실패. 넘어감.\n",
            "▶ Processing TS6lFDVR-3g_115.mp4...\n"
          ]
        },
        {
          "output_type": "stream",
          "name": "stderr",
          "text": [
            "TS6lFDVR-3g_115.mp4 진행중:   0%|          | 0/5 [00:00<?, ?it/s]"
          ]
        },
        {
          "output_type": "stream",
          "name": "stdout",
          "text": [
            "TS6lFDVR-3g_115.mp4 프레임 0 읽기 실패. 넘어감.\n"
          ]
        },
        {
          "output_type": "stream",
          "name": "stderr",
          "text": [
            "\n"
          ]
        },
        {
          "output_type": "stream",
          "name": "stdout",
          "text": [
            "▶ Processing TS6lFDVR-3g_116.mp4...\n"
          ]
        },
        {
          "output_type": "stream",
          "name": "stderr",
          "text": [
            "TS6lFDVR-3g_116.mp4 진행중:   0%|          | 0/7 [00:00<?, ?it/s]"
          ]
        },
        {
          "output_type": "stream",
          "name": "stdout",
          "text": [
            "TS6lFDVR-3g_116.mp4 프레임 0 읽기 실패. 넘어감.\n"
          ]
        },
        {
          "output_type": "stream",
          "name": "stderr",
          "text": [
            "\n"
          ]
        },
        {
          "output_type": "stream",
          "name": "stdout",
          "text": [
            "▶ Processing TS6lFDVR-3g_117.mp4...\n"
          ]
        },
        {
          "output_type": "stream",
          "name": "stderr",
          "text": [
            "TS6lFDVR-3g_117.mp4 진행중:   0%|          | 0/6 [00:00<?, ?it/s]"
          ]
        },
        {
          "output_type": "stream",
          "name": "stdout",
          "text": [
            "TS6lFDVR-3g_117.mp4 프레임 0 읽기 실패. 넘어감.\n"
          ]
        },
        {
          "output_type": "stream",
          "name": "stderr",
          "text": [
            "\n"
          ]
        },
        {
          "output_type": "stream",
          "name": "stdout",
          "text": [
            "▶ Processing TS6lFDVR-3g_118.mp4...\n"
          ]
        },
        {
          "output_type": "stream",
          "name": "stderr",
          "text": [
            "TS6lFDVR-3g_118.mp4 진행중:   0%|          | 0/7 [00:00<?, ?it/s]\n"
          ]
        },
        {
          "output_type": "stream",
          "name": "stdout",
          "text": [
            "TS6lFDVR-3g_118.mp4 프레임 0 읽기 실패. 넘어감.\n",
            "▶ Processing TS6lFDVR-3g_119.mp4...\n"
          ]
        },
        {
          "output_type": "stream",
          "name": "stderr",
          "text": [
            "TS6lFDVR-3g_119.mp4 진행중:   0%|          | 0/3 [00:00<?, ?it/s]"
          ]
        },
        {
          "output_type": "stream",
          "name": "stdout",
          "text": [
            "TS6lFDVR-3g_119.mp4 프레임 0 읽기 실패. 넘어감.\n"
          ]
        },
        {
          "output_type": "stream",
          "name": "stderr",
          "text": [
            "\n"
          ]
        },
        {
          "output_type": "stream",
          "name": "stdout",
          "text": [
            "▶ Processing TS6lFDVR-3g_120.mp4...\n"
          ]
        },
        {
          "output_type": "stream",
          "name": "stderr",
          "text": [
            "TS6lFDVR-3g_120.mp4 진행중:   0%|          | 0/5 [00:00<?, ?it/s]\n"
          ]
        },
        {
          "output_type": "stream",
          "name": "stdout",
          "text": [
            "TS6lFDVR-3g_120.mp4 프레임 0 읽기 실패. 넘어감.\n",
            "▶ Processing TS6lFDVR-3g_121.mp4...\n"
          ]
        },
        {
          "output_type": "stream",
          "name": "stderr",
          "text": [
            "TS6lFDVR-3g_121.mp4 진행중:   0%|          | 0/7 [00:00<?, ?it/s]\n"
          ]
        },
        {
          "output_type": "stream",
          "name": "stdout",
          "text": [
            "TS6lFDVR-3g_121.mp4 프레임 0 읽기 실패. 넘어감.\n",
            "▶ Processing TS6lFDVR-3g_122.mp4...\n"
          ]
        },
        {
          "output_type": "stream",
          "name": "stderr",
          "text": [
            "TS6lFDVR-3g_122.mp4 진행중:   0%|          | 0/3 [00:00<?, ?it/s]\n"
          ]
        },
        {
          "output_type": "stream",
          "name": "stdout",
          "text": [
            "TS6lFDVR-3g_122.mp4 프레임 0 읽기 실패. 넘어감.\n",
            "▶ Processing TS6lFDVR-3g_123.mp4...\n"
          ]
        },
        {
          "output_type": "stream",
          "name": "stderr",
          "text": [
            "TS6lFDVR-3g_123.mp4 진행중:   0%|          | 0/5 [00:00<?, ?it/s]\n"
          ]
        },
        {
          "output_type": "stream",
          "name": "stdout",
          "text": [
            "TS6lFDVR-3g_123.mp4 프레임 0 읽기 실패. 넘어감.\n",
            "▶ Processing TS6lFDVR-3g_124.mp4...\n"
          ]
        },
        {
          "output_type": "stream",
          "name": "stderr",
          "text": [
            "TS6lFDVR-3g_124.mp4 진행중:   0%|          | 0/7 [00:00<?, ?it/s]"
          ]
        },
        {
          "output_type": "stream",
          "name": "stdout",
          "text": [
            "TS6lFDVR-3g_124.mp4 프레임 0 읽기 실패. 넘어감.\n"
          ]
        },
        {
          "output_type": "stream",
          "name": "stderr",
          "text": [
            "\n"
          ]
        },
        {
          "output_type": "stream",
          "name": "stdout",
          "text": [
            "▶ Processing TS6lFDVR-3g_125.mp4...\n"
          ]
        },
        {
          "output_type": "stream",
          "name": "stderr",
          "text": [
            "TS6lFDVR-3g_125.mp4 진행중:   0%|          | 0/2 [00:00<?, ?it/s]"
          ]
        },
        {
          "output_type": "stream",
          "name": "stdout",
          "text": [
            "TS6lFDVR-3g_125.mp4 프레임 0 읽기 실패. 넘어감.\n"
          ]
        },
        {
          "output_type": "stream",
          "name": "stderr",
          "text": [
            "\n"
          ]
        },
        {
          "output_type": "stream",
          "name": "stdout",
          "text": [
            "▶ Processing A6Dkt7zyImk_000.mp4...\n"
          ]
        },
        {
          "output_type": "stream",
          "name": "stderr",
          "text": [
            "A6Dkt7zyImk_000.mp4 진행중: 100%|██████████| 6/6 [00:41<00:00,  6.85s/it]\n"
          ]
        },
        {
          "output_type": "stream",
          "name": "stdout",
          "text": [
            "▶ Processing A6Dkt7zyImk_001.mp4...\n"
          ]
        },
        {
          "output_type": "stream",
          "name": "stderr",
          "text": [
            "\rA6Dkt7zyImk_001.mp4 진행중:   0%|          | 0/9 [00:00<?, ?it/s]"
          ]
        }
      ]
    }
  ]
}